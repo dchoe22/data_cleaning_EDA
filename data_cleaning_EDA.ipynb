{
 "cells": [
  {
   "cell_type": "markdown",
   "id": "7b11eb55-90c7-4d2a-ba18-457be6598d0e",
   "metadata": {},
   "source": [
    "### Import packages to be used for dataset cleaning"
   ]
  },
  {
   "cell_type": "code",
   "execution_count": 1,
   "id": "024a9690-67f3-4a05-9162-48bd6b00289e",
   "metadata": {},
   "outputs": [],
   "source": [
    "import pandas as pd\n",
    "import numpy as np\n",
    "import missingno as msno\n",
    "import matplotlib.pyplot as plt\n",
    "import seaborn as sns"
   ]
  },
  {
   "cell_type": "markdown",
   "id": "389d5f76-4a73-49ae-bc2e-9d4ed30db543",
   "metadata": {},
   "source": [
    "### Importing dataset into python"
   ]
  },
  {
   "cell_type": "code",
   "execution_count": 2,
   "id": "b73ef2ff-de05-438e-b95c-60267b4d265f",
   "metadata": {},
   "outputs": [],
   "source": [
    "churn = pd.read_csv(\"/Users/dhchoe/Desktop/D206/D206_PA/churn_raw_data.csv\")"
   ]
  },
  {
   "cell_type": "markdown",
   "id": "2229457c-c52b-4de9-a893-0d1c7c8eecc3",
   "metadata": {},
   "source": [
    "### Reviewing first five rows of the dataset to make sure it was imported properly"
   ]
  },
  {
   "cell_type": "code",
   "execution_count": null,
   "id": "a22d5692-a9d8-4439-b2dd-1f9f91ef9d09",
   "metadata": {},
   "outputs": [
    {
     "data": {
      "text/html": [
       "<div>\n",
       "<style scoped>\n",
       "    .dataframe tbody tr th:only-of-type {\n",
       "        vertical-align: middle;\n",
       "    }\n",
       "\n",
       "    .dataframe tbody tr th {\n",
       "        vertical-align: top;\n",
       "    }\n",
       "\n",
       "    .dataframe thead th {\n",
       "        text-align: right;\n",
       "    }\n",
       "</style>\n",
       "<table border=\"1\" class=\"dataframe\">\n",
       "  <thead>\n",
       "    <tr style=\"text-align: right;\">\n",
       "      <th></th>\n",
       "      <th>Unnamed: 0</th>\n",
       "      <th>CaseOrder</th>\n",
       "      <th>Customer_id</th>\n",
       "      <th>Interaction</th>\n",
       "      <th>City</th>\n",
       "      <th>State</th>\n",
       "      <th>County</th>\n",
       "      <th>Zip</th>\n",
       "      <th>Lat</th>\n",
       "      <th>Lng</th>\n",
       "      <th>...</th>\n",
       "      <th>MonthlyCharge</th>\n",
       "      <th>Bandwidth_GB_Year</th>\n",
       "      <th>item1</th>\n",
       "      <th>item2</th>\n",
       "      <th>item3</th>\n",
       "      <th>item4</th>\n",
       "      <th>item5</th>\n",
       "      <th>item6</th>\n",
       "      <th>item7</th>\n",
       "      <th>item8</th>\n",
       "    </tr>\n",
       "  </thead>\n",
       "  <tbody>\n",
       "    <tr>\n",
       "      <th>0</th>\n",
       "      <td>1</td>\n",
       "      <td>1</td>\n",
       "      <td>K409198</td>\n",
       "      <td>aa90260b-4141-4a24-8e36-b04ce1f4f77b</td>\n",
       "      <td>Point Baker</td>\n",
       "      <td>AK</td>\n",
       "      <td>Prince of Wales-Hyder</td>\n",
       "      <td>99927</td>\n",
       "      <td>56.25100</td>\n",
       "      <td>-133.37571</td>\n",
       "      <td>...</td>\n",
       "      <td>171.449762</td>\n",
       "      <td>904.536110</td>\n",
       "      <td>5</td>\n",
       "      <td>5</td>\n",
       "      <td>5</td>\n",
       "      <td>3</td>\n",
       "      <td>4</td>\n",
       "      <td>4</td>\n",
       "      <td>3</td>\n",
       "      <td>4</td>\n",
       "    </tr>\n",
       "    <tr>\n",
       "      <th>1</th>\n",
       "      <td>2</td>\n",
       "      <td>2</td>\n",
       "      <td>S120509</td>\n",
       "      <td>fb76459f-c047-4a9d-8af9-e0f7d4ac2524</td>\n",
       "      <td>West Branch</td>\n",
       "      <td>MI</td>\n",
       "      <td>Ogemaw</td>\n",
       "      <td>48661</td>\n",
       "      <td>44.32893</td>\n",
       "      <td>-84.24080</td>\n",
       "      <td>...</td>\n",
       "      <td>242.948015</td>\n",
       "      <td>800.982766</td>\n",
       "      <td>3</td>\n",
       "      <td>4</td>\n",
       "      <td>3</td>\n",
       "      <td>3</td>\n",
       "      <td>4</td>\n",
       "      <td>3</td>\n",
       "      <td>4</td>\n",
       "      <td>4</td>\n",
       "    </tr>\n",
       "    <tr>\n",
       "      <th>2</th>\n",
       "      <td>3</td>\n",
       "      <td>3</td>\n",
       "      <td>K191035</td>\n",
       "      <td>344d114c-3736-4be5-98f7-c72c281e2d35</td>\n",
       "      <td>Yamhill</td>\n",
       "      <td>OR</td>\n",
       "      <td>Yamhill</td>\n",
       "      <td>97148</td>\n",
       "      <td>45.35589</td>\n",
       "      <td>-123.24657</td>\n",
       "      <td>...</td>\n",
       "      <td>159.440398</td>\n",
       "      <td>2054.706961</td>\n",
       "      <td>4</td>\n",
       "      <td>4</td>\n",
       "      <td>2</td>\n",
       "      <td>4</td>\n",
       "      <td>4</td>\n",
       "      <td>3</td>\n",
       "      <td>3</td>\n",
       "      <td>3</td>\n",
       "    </tr>\n",
       "    <tr>\n",
       "      <th>3</th>\n",
       "      <td>4</td>\n",
       "      <td>4</td>\n",
       "      <td>D90850</td>\n",
       "      <td>abfa2b40-2d43-4994-b15a-989b8c79e311</td>\n",
       "      <td>Del Mar</td>\n",
       "      <td>CA</td>\n",
       "      <td>San Diego</td>\n",
       "      <td>92014</td>\n",
       "      <td>32.96687</td>\n",
       "      <td>-117.24798</td>\n",
       "      <td>...</td>\n",
       "      <td>120.249493</td>\n",
       "      <td>2164.579412</td>\n",
       "      <td>4</td>\n",
       "      <td>4</td>\n",
       "      <td>4</td>\n",
       "      <td>2</td>\n",
       "      <td>5</td>\n",
       "      <td>4</td>\n",
       "      <td>3</td>\n",
       "      <td>3</td>\n",
       "    </tr>\n",
       "    <tr>\n",
       "      <th>4</th>\n",
       "      <td>5</td>\n",
       "      <td>5</td>\n",
       "      <td>K662701</td>\n",
       "      <td>68a861fd-0d20-4e51-a587-8a90407ee574</td>\n",
       "      <td>Needville</td>\n",
       "      <td>TX</td>\n",
       "      <td>Fort Bend</td>\n",
       "      <td>77461</td>\n",
       "      <td>29.38012</td>\n",
       "      <td>-95.80673</td>\n",
       "      <td>...</td>\n",
       "      <td>150.761216</td>\n",
       "      <td>271.493436</td>\n",
       "      <td>4</td>\n",
       "      <td>4</td>\n",
       "      <td>4</td>\n",
       "      <td>3</td>\n",
       "      <td>4</td>\n",
       "      <td>4</td>\n",
       "      <td>4</td>\n",
       "      <td>5</td>\n",
       "    </tr>\n",
       "  </tbody>\n",
       "</table>\n",
       "<p>5 rows × 52 columns</p>\n",
       "</div>"
      ],
      "text/plain": [
       "   Unnamed: 0  CaseOrder Customer_id                           Interaction  \\\n",
       "0           1          1     K409198  aa90260b-4141-4a24-8e36-b04ce1f4f77b   \n",
       "1           2          2     S120509  fb76459f-c047-4a9d-8af9-e0f7d4ac2524   \n",
       "2           3          3     K191035  344d114c-3736-4be5-98f7-c72c281e2d35   \n",
       "3           4          4      D90850  abfa2b40-2d43-4994-b15a-989b8c79e311   \n",
       "4           5          5     K662701  68a861fd-0d20-4e51-a587-8a90407ee574   \n",
       "\n",
       "          City State                 County    Zip       Lat        Lng  ...  \\\n",
       "0  Point Baker    AK  Prince of Wales-Hyder  99927  56.25100 -133.37571  ...   \n",
       "1  West Branch    MI                 Ogemaw  48661  44.32893  -84.24080  ...   \n",
       "2      Yamhill    OR                Yamhill  97148  45.35589 -123.24657  ...   \n",
       "3      Del Mar    CA              San Diego  92014  32.96687 -117.24798  ...   \n",
       "4    Needville    TX              Fort Bend  77461  29.38012  -95.80673  ...   \n",
       "\n",
       "   MonthlyCharge Bandwidth_GB_Year item1 item2  item3  item4 item5 item6  \\\n",
       "0     171.449762        904.536110     5     5      5      3     4     4   \n",
       "1     242.948015        800.982766     3     4      3      3     4     3   \n",
       "2     159.440398       2054.706961     4     4      2      4     4     3   \n",
       "3     120.249493       2164.579412     4     4      4      2     5     4   \n",
       "4     150.761216        271.493436     4     4      4      3     4     4   \n",
       "\n",
       "   item7 item8  \n",
       "0      3     4  \n",
       "1      4     4  \n",
       "2      3     3  \n",
       "3      3     3  \n",
       "4      4     5  \n",
       "\n",
       "[5 rows x 52 columns]"
      ]
     },
     "execution_count": 3,
     "metadata": {},
     "output_type": "execute_result"
    }
   ],
   "source": [
    "churn.head(5)"
   ]
  },
  {
   "cell_type": "markdown",
   "id": "fb2b7676-7097-41d0-baef-91b00f730c93",
   "metadata": {},
   "source": [
    "### Indentify number of rows and columns"
   ]
  },
  {
   "cell_type": "code",
   "execution_count": 4,
   "id": "a83f419b-589a-414c-a5db-4d2c7d7c441a",
   "metadata": {},
   "outputs": [
    {
     "data": {
      "text/plain": [
       "(10000, 52)"
      ]
     },
     "execution_count": 4,
     "metadata": {},
     "output_type": "execute_result"
    }
   ],
   "source": [
    "churn.shape"
   ]
  },
  {
   "cell_type": "markdown",
   "id": "8b5b2122-a017-4bb0-8628-d9b5078803de",
   "metadata": {},
   "source": [
    "### Review information and data types of dataset "
   ]
  },
  {
   "cell_type": "code",
   "execution_count": 5,
   "id": "34f0de75-8205-4ab4-9400-5baa41ec06a6",
   "metadata": {},
   "outputs": [
    {
     "name": "stdout",
     "output_type": "stream",
     "text": [
      "<class 'pandas.core.frame.DataFrame'>\n",
      "RangeIndex: 10000 entries, 0 to 9999\n",
      "Data columns (total 52 columns):\n",
      " #   Column                Non-Null Count  Dtype  \n",
      "---  ------                --------------  -----  \n",
      " 0   Unnamed: 0            10000 non-null  int64  \n",
      " 1   CaseOrder             10000 non-null  int64  \n",
      " 2   Customer_id           10000 non-null  object \n",
      " 3   Interaction           10000 non-null  object \n",
      " 4   City                  10000 non-null  object \n",
      " 5   State                 10000 non-null  object \n",
      " 6   County                10000 non-null  object \n",
      " 7   Zip                   10000 non-null  int64  \n",
      " 8   Lat                   10000 non-null  float64\n",
      " 9   Lng                   10000 non-null  float64\n",
      " 10  Population            10000 non-null  int64  \n",
      " 11  Area                  10000 non-null  object \n",
      " 12  Timezone              10000 non-null  object \n",
      " 13  Job                   10000 non-null  object \n",
      " 14  Children              7505 non-null   float64\n",
      " 15  Age                   7525 non-null   float64\n",
      " 16  Education             10000 non-null  object \n",
      " 17  Employment            10000 non-null  object \n",
      " 18  Income                7510 non-null   float64\n",
      " 19  Marital               10000 non-null  object \n",
      " 20  Gender                10000 non-null  object \n",
      " 21  Churn                 10000 non-null  object \n",
      " 22  Outage_sec_perweek    10000 non-null  float64\n",
      " 23  Email                 10000 non-null  int64  \n",
      " 24  Contacts              10000 non-null  int64  \n",
      " 25  Yearly_equip_failure  10000 non-null  int64  \n",
      " 26  Techie                7523 non-null   object \n",
      " 27  Contract              10000 non-null  object \n",
      " 28  Port_modem            10000 non-null  object \n",
      " 29  Tablet                10000 non-null  object \n",
      " 30  InternetService       10000 non-null  object \n",
      " 31  Phone                 8974 non-null   object \n",
      " 32  Multiple              10000 non-null  object \n",
      " 33  OnlineSecurity        10000 non-null  object \n",
      " 34  OnlineBackup          10000 non-null  object \n",
      " 35  DeviceProtection      10000 non-null  object \n",
      " 36  TechSupport           9009 non-null   object \n",
      " 37  StreamingTV           10000 non-null  object \n",
      " 38  StreamingMovies       10000 non-null  object \n",
      " 39  PaperlessBilling      10000 non-null  object \n",
      " 40  PaymentMethod         10000 non-null  object \n",
      " 41  Tenure                9069 non-null   float64\n",
      " 42  MonthlyCharge         10000 non-null  float64\n",
      " 43  Bandwidth_GB_Year     8979 non-null   float64\n",
      " 44  item1                 10000 non-null  int64  \n",
      " 45  item2                 10000 non-null  int64  \n",
      " 46  item3                 10000 non-null  int64  \n",
      " 47  item4                 10000 non-null  int64  \n",
      " 48  item5                 10000 non-null  int64  \n",
      " 49  item6                 10000 non-null  int64  \n",
      " 50  item7                 10000 non-null  int64  \n",
      " 51  item8                 10000 non-null  int64  \n",
      "dtypes: float64(9), int64(15), object(28)\n",
      "memory usage: 4.0+ MB\n"
     ]
    }
   ],
   "source": [
    "churn.info()"
   ]
  },
  {
   "cell_type": "markdown",
   "id": "d4702526-7130-4323-9161-7386f605d2cd",
   "metadata": {},
   "source": [
    "### Detect duplicated rows in dataset"
   ]
  },
  {
   "cell_type": "code",
   "execution_count": 6,
   "id": "2596ebea-61a1-473e-a249-bfed1908f8f4",
   "metadata": {},
   "outputs": [
    {
     "data": {
      "text/plain": [
       "0       False\n",
       "1       False\n",
       "2       False\n",
       "3       False\n",
       "4       False\n",
       "        ...  \n",
       "9995    False\n",
       "9996    False\n",
       "9997    False\n",
       "9998    False\n",
       "9999    False\n",
       "Length: 10000, dtype: bool"
      ]
     },
     "execution_count": 6,
     "metadata": {},
     "output_type": "execute_result"
    }
   ],
   "source": [
    "churn.duplicated()"
   ]
  },
  {
   "cell_type": "code",
   "execution_count": 7,
   "id": "3f259c3f-2871-43c1-a90a-44bafe6c0ad4",
   "metadata": {},
   "outputs": [
    {
     "data": {
      "text/plain": [
       "False    10000\n",
       "dtype: int64"
      ]
     },
     "execution_count": 7,
     "metadata": {},
     "output_type": "execute_result"
    }
   ],
   "source": [
    "churn.duplicated().value_counts()"
   ]
  },
  {
   "cell_type": "markdown",
   "id": "07d01c75-e3ea-45a1-a6d9-48d401e3618d",
   "metadata": {},
   "source": [
    "### No duplicate rows\n",
    "#### But if there was execute following code"
   ]
  },
  {
   "cell_type": "code",
   "execution_count": null,
   "id": "656efb0f-5304-46fe-ab91-b798fd9a2f0b",
   "metadata": {},
   "outputs": [],
   "source": [
    "#churn = churn.drop_duplicates()"
   ]
  },
  {
   "cell_type": "markdown",
   "id": "edd50544-197f-4050-83fe-19c5319bbed6",
   "metadata": {},
   "source": [
    "### Detect missing values in dataset\n",
    "#### Sum of nan/null values"
   ]
  },
  {
   "cell_type": "code",
   "execution_count": 8,
   "id": "475b3689-2316-49df-ba2b-dd4eed14b764",
   "metadata": {},
   "outputs": [
    {
     "data": {
      "text/plain": [
       "Unnamed: 0                 0\n",
       "CaseOrder                  0\n",
       "Customer_id                0\n",
       "Interaction                0\n",
       "City                       0\n",
       "State                      0\n",
       "County                     0\n",
       "Zip                        0\n",
       "Lat                        0\n",
       "Lng                        0\n",
       "Population                 0\n",
       "Area                       0\n",
       "Timezone                   0\n",
       "Job                        0\n",
       "Children                2495\n",
       "Age                     2475\n",
       "Education                  0\n",
       "Employment                 0\n",
       "Income                  2490\n",
       "Marital                    0\n",
       "Gender                     0\n",
       "Churn                      0\n",
       "Outage_sec_perweek         0\n",
       "Email                      0\n",
       "Contacts                   0\n",
       "Yearly_equip_failure       0\n",
       "Techie                  2477\n",
       "Contract                   0\n",
       "Port_modem                 0\n",
       "Tablet                     0\n",
       "InternetService            0\n",
       "Phone                   1026\n",
       "Multiple                   0\n",
       "OnlineSecurity             0\n",
       "OnlineBackup               0\n",
       "DeviceProtection           0\n",
       "TechSupport              991\n",
       "StreamingTV                0\n",
       "StreamingMovies            0\n",
       "PaperlessBilling           0\n",
       "PaymentMethod              0\n",
       "Tenure                   931\n",
       "MonthlyCharge              0\n",
       "Bandwidth_GB_Year       1021\n",
       "item1                      0\n",
       "item2                      0\n",
       "item3                      0\n",
       "item4                      0\n",
       "item5                      0\n",
       "item6                      0\n",
       "item7                      0\n",
       "item8                      0\n",
       "dtype: int64"
      ]
     },
     "execution_count": 8,
     "metadata": {},
     "output_type": "execute_result"
    }
   ],
   "source": [
    "churn.isnull().sum()"
   ]
  },
  {
   "cell_type": "markdown",
   "id": "6939749d-a19d-44dd-ba38-b8cbc39cbd18",
   "metadata": {},
   "source": [
    "### Visualizing missing data"
   ]
  },
  {
   "cell_type": "code",
   "execution_count": 9,
   "id": "f9989e4c-6f16-410a-889f-b427eeee1ba9",
   "metadata": {},
   "outputs": [
    {
     "data": {
      "image/png": "[encoded data removed]",
      "text/plain": [
       "<Figure size 2500x1000 with 2 Axes>"
      ]
     },
     "metadata": {},
     "output_type": "display_data"
    }
   ],
   "source": [
    "msno.matrix(churn, fontsize = 12, labels = True)\n",
    "plt.title('Missing churn data')\n",
    "plt.show()"
   ]
  },
  {
   "cell_type": "markdown",
   "id": "15353c28-5ca3-4c38-8541-d498d9d5c339",
   "metadata": {},
   "source": [
    "### Treatment of children column missing data"
   ]
  },
  {
   "cell_type": "code",
   "execution_count": 10,
   "id": "496f8bb2-481e-49f2-80df-07707ea3717f",
   "metadata": {},
   "outputs": [
    {
     "data": {
      "image/png": "[encoded data removed]",
      "text/plain": [
       "<Figure size 640x480 with 1 Axes>"
      ]
     },
     "metadata": {},
     "output_type": "display_data"
    }
   ],
   "source": [
    "plt.hist(churn['Children'])\n",
    "plt.show()"
   ]
  },
  {
   "cell_type": "code",
   "execution_count": 11,
   "id": "8f5996ce-832b-4fc0-8ba7-a559363ccf91",
   "metadata": {},
   "outputs": [],
   "source": [
    "churn['Children'].fillna(churn['Children'].median(), inplace = True)"
   ]
  },
  {
   "cell_type": "code",
   "execution_count": 12,
   "id": "c7cc69ff-50ec-439c-b77f-2d326953d567",
   "metadata": {},
   "outputs": [
    {
     "data": {
      "image/png": "[encoded data removed]",
      "text/plain": [
       "<Figure size 640x480 with 1 Axes>"
      ]
     },
     "metadata": {},
     "output_type": "display_data"
    }
   ],
   "source": [
    "plt.hist(churn['Children'])\n",
    "plt.show()"
   ]
  },
  {
   "cell_type": "markdown",
   "id": "7aa484c4-72e0-453c-9127-a2725a2762f7",
   "metadata": {},
   "source": [
    "### Treatment of age column missing data"
   ]
  },
  {
   "cell_type": "code",
   "execution_count": 13,
   "id": "505d1903-fcd7-4306-bf9a-124f26f92eea",
   "metadata": {},
   "outputs": [
    {
     "data": {
      "image/png": "[encoded data removed]",
      "text/plain": [
       "<Figure size 640x480 with 1 Axes>"
      ]
     },
     "metadata": {},
     "output_type": "display_data"
    }
   ],
   "source": [
    "plt.hist(churn['Age'])\n",
    "plt.show()"
   ]
  },
  {
   "cell_type": "code",
   "execution_count": 14,
   "id": "6598dd4d-3459-4f6d-b9fc-56074ac4cff8",
   "metadata": {},
   "outputs": [],
   "source": [
    "churn['Age'].fillna(churn['Age'].mean(), inplace = True)"
   ]
  },
  {
   "cell_type": "code",
   "execution_count": 15,
   "id": "1a2c594f-4def-47fc-8562-49b1d504a9a3",
   "metadata": {},
   "outputs": [
    {
     "data": {
      "image/png": "[encoded data removed]",
      "text/plain": [
       "<Figure size 640x480 with 1 Axes>"
      ]
     },
     "metadata": {},
     "output_type": "display_data"
    }
   ],
   "source": [
    "plt.hist(churn['Age'])\n",
    "plt.show()"
   ]
  },
  {
   "cell_type": "markdown",
   "id": "35fb1c4e-4ab6-4cf3-b251-7a00d222b536",
   "metadata": {},
   "source": [
    "### Treatment of income column missing data"
   ]
  },
  {
   "cell_type": "code",
   "execution_count": 16,
   "id": "c521a88f-1ec8-43cb-8c2e-e33989718eaa",
   "metadata": {},
   "outputs": [
    {
     "data": {
      "image/png": "[encoded data removed]",
      "text/plain": [
       "<Figure size 640x480 with 1 Axes>"
      ]
     },
     "metadata": {},
     "output_type": "display_data"
    }
   ],
   "source": [
    "plt.hist(churn['Income'])\n",
    "plt.show()"
   ]
  },
  {
   "cell_type": "code",
   "execution_count": 17,
   "id": "ad7a706f-8da2-4e88-95a5-41267775cdd8",
   "metadata": {},
   "outputs": [],
   "source": [
    "churn['Income'].fillna(churn['Income'].median(), inplace = True)"
   ]
  },
  {
   "cell_type": "code",
   "execution_count": 18,
   "id": "9502a75e-f01a-4f02-a8f8-679eda9b40e7",
   "metadata": {},
   "outputs": [
    {
     "data": {
      "image/png": "[encoded data removed]",
      "text/plain": [
       "<Figure size 640x480 with 1 Axes>"
      ]
     },
     "metadata": {},
     "output_type": "display_data"
    }
   ],
   "source": [
    "plt.hist(churn['Income'])\n",
    "plt.show()"
   ]
  },
  {
   "cell_type": "markdown",
   "id": "7053bda3-611a-4844-9f1b-2485f65328bd",
   "metadata": {},
   "source": [
    "### Treatment of techie column missing data"
   ]
  },
  {
   "cell_type": "code",
   "execution_count": 19,
   "id": "f99bca34-dba6-4386-a942-c254d60fb872",
   "metadata": {},
   "outputs": [
    {
     "data": {
      "text/plain": [
       "count     7523\n",
       "unique       2\n",
       "top         No\n",
       "freq      6266\n",
       "Name: Techie, dtype: object"
      ]
     },
     "execution_count": 19,
     "metadata": {},
     "output_type": "execute_result"
    }
   ],
   "source": [
    "churn['Techie'].describe()"
   ]
  },
  {
   "cell_type": "code",
   "execution_count": 20,
   "id": "be08ef5c-b5e1-41b6-9d96-6fb9c9f976b2",
   "metadata": {},
   "outputs": [],
   "source": [
    "churn['Techie'] = churn['Techie'].fillna(churn['Techie'].mode()[0])"
   ]
  },
  {
   "cell_type": "code",
   "execution_count": 21,
   "id": "57f923f6-8a93-4e86-b6ff-6f255f3d60a0",
   "metadata": {},
   "outputs": [
    {
     "data": {
      "text/plain": [
       "count     10000\n",
       "unique        2\n",
       "top          No\n",
       "freq       8743\n",
       "Name: Techie, dtype: object"
      ]
     },
     "execution_count": 21,
     "metadata": {},
     "output_type": "execute_result"
    }
   ],
   "source": [
    "churn['Techie'].describe()"
   ]
  },
  {
   "cell_type": "markdown",
   "id": "6ef48867-8e7a-479a-8252-923fdb77491c",
   "metadata": {},
   "source": [
    "### Treatment of phone column missing data"
   ]
  },
  {
   "cell_type": "code",
   "execution_count": 22,
   "id": "5479da1b-abab-45a4-8c88-b30518298849",
   "metadata": {},
   "outputs": [
    {
     "data": {
      "text/plain": [
       "count     8974\n",
       "unique       2\n",
       "top        Yes\n",
       "freq      8128\n",
       "Name: Phone, dtype: object"
      ]
     },
     "execution_count": 22,
     "metadata": {},
     "output_type": "execute_result"
    }
   ],
   "source": [
    "churn['Phone'].describe()"
   ]
  },
  {
   "cell_type": "code",
   "execution_count": 23,
   "id": "9487ad55-80ce-41ae-847a-34456b826382",
   "metadata": {},
   "outputs": [],
   "source": [
    "churn['Phone'] = churn['Phone'].fillna(churn['Phone'].mode()[0])"
   ]
  },
  {
   "cell_type": "code",
   "execution_count": 24,
   "id": "97b03bbc-7c78-489d-88b7-e3b3fc6fb499",
   "metadata": {},
   "outputs": [
    {
     "data": {
      "text/plain": [
       "count     10000\n",
       "unique        2\n",
       "top         Yes\n",
       "freq       9154\n",
       "Name: Phone, dtype: object"
      ]
     },
     "execution_count": 24,
     "metadata": {},
     "output_type": "execute_result"
    }
   ],
   "source": [
    "churn['Phone'].describe()"
   ]
  },
  {
   "cell_type": "markdown",
   "id": "eba9a080-d363-4531-81eb-998683c307fe",
   "metadata": {},
   "source": [
    "### Treatment of TechSupport column missing data"
   ]
  },
  {
   "cell_type": "code",
   "execution_count": 25,
   "id": "bf5bde30-5aba-4385-bb2d-45405a7a8712",
   "metadata": {},
   "outputs": [
    {
     "data": {
      "text/plain": [
       "count     9009\n",
       "unique       2\n",
       "top         No\n",
       "freq      5635\n",
       "Name: TechSupport, dtype: object"
      ]
     },
     "execution_count": 25,
     "metadata": {},
     "output_type": "execute_result"
    }
   ],
   "source": [
    "churn['TechSupport'].describe()"
   ]
  },
  {
   "cell_type": "code",
   "execution_count": 26,
   "id": "bacf2ab8-0be0-4405-aff2-bcade09101ea",
   "metadata": {},
   "outputs": [],
   "source": [
    "churn['TechSupport'] = churn['TechSupport'].fillna(churn['TechSupport'].mode()[0])"
   ]
  },
  {
   "cell_type": "code",
   "execution_count": 27,
   "id": "f957a658-bb2d-4ad8-8d82-9cb7e2df4af6",
   "metadata": {},
   "outputs": [
    {
     "data": {
      "text/plain": [
       "count     10000\n",
       "unique        2\n",
       "top          No\n",
       "freq       6626\n",
       "Name: TechSupport, dtype: object"
      ]
     },
     "execution_count": 27,
     "metadata": {},
     "output_type": "execute_result"
    }
   ],
   "source": [
    "churn['TechSupport'].describe()"
   ]
  },
  {
   "cell_type": "markdown",
   "id": "d3305102-87aa-4f13-84d6-524b85283cd0",
   "metadata": {},
   "source": [
    "### Treatment of Tenure column missing data"
   ]
  },
  {
   "cell_type": "code",
   "execution_count": 28,
   "id": "402d5fa5-4885-4168-b0f0-fe8336ee1aa9",
   "metadata": {},
   "outputs": [
    {
     "data": {
      "image/png": "[encoded data removed]",
      "text/plain": [
       "<Figure size 640x480 with 1 Axes>"
      ]
     },
     "metadata": {},
     "output_type": "display_data"
    }
   ],
   "source": [
    "plt.hist(churn['Tenure'])\n",
    "plt.show()"
   ]
  },
  {
   "cell_type": "code",
   "execution_count": 29,
   "id": "e31e81f8-1a87-428b-82ed-9917e54a969f",
   "metadata": {},
   "outputs": [],
   "source": [
    "churn['Tenure'].fillna(churn['Tenure'].median(), inplace = True)"
   ]
  },
  {
   "cell_type": "code",
   "execution_count": 30,
   "id": "f2889e3d-e9e4-40a8-b6b5-5277b795ba03",
   "metadata": {},
   "outputs": [
    {
     "data": {
      "image/png": "[encoded data removed]",
      "text/plain": [
       "<Figure size 640x480 with 1 Axes>"
      ]
     },
     "metadata": {},
     "output_type": "display_data"
    }
   ],
   "source": [
    "plt.hist(churn['Tenure'])\n",
    "plt.show()"
   ]
  },
  {
   "cell_type": "markdown",
   "id": "17cacaa9-f330-4d91-915e-6abadc1d58a5",
   "metadata": {},
   "source": [
    "### Treatment of Bandwidth_GB_Year column misssing data"
   ]
  },
  {
   "cell_type": "code",
   "execution_count": 31,
   "id": "fe326cc2-c095-4acd-bb41-f953e857f1a0",
   "metadata": {},
   "outputs": [
    {
     "data": {
      "image/png": "[encoded data removed]",
      "text/plain": [
       "<Figure size 640x480 with 1 Axes>"
      ]
     },
     "metadata": {},
     "output_type": "display_data"
    }
   ],
   "source": [
    "plt.hist(churn['Bandwidth_GB_Year'])\n",
    "plt.show()"
   ]
  },
  {
   "cell_type": "code",
   "execution_count": 32,
   "id": "1b3ae210-4792-4b2d-828a-86bfe7b909f4",
   "metadata": {},
   "outputs": [],
   "source": [
    "churn['Bandwidth_GB_Year'].fillna(churn['Bandwidth_GB_Year'].median(), inplace = True)"
   ]
  },
  {
   "cell_type": "code",
   "execution_count": 33,
   "id": "fd696cf5-1376-4a88-aee3-a803c8e81fe8",
   "metadata": {},
   "outputs": [
    {
     "data": {
      "image/png": "[encoded data removed]",
      "text/plain": [
       "<Figure size 640x480 with 1 Axes>"
      ]
     },
     "metadata": {},
     "output_type": "display_data"
    }
   ],
   "source": [
    "plt.hist(churn['Bandwidth_GB_Year'])\n",
    "plt.show()"
   ]
  },
  {
   "cell_type": "markdown",
   "id": "0659b655-f23a-49be-8dbd-50a6b4cb770c",
   "metadata": {},
   "source": [
    "### Verifying no nan/null values"
   ]
  },
  {
   "cell_type": "code",
   "execution_count": 34,
   "id": "7eda1447-70ad-4009-8312-76468b5d9c23",
   "metadata": {},
   "outputs": [
    {
     "data": {
      "text/plain": [
       "Unnamed: 0              0\n",
       "CaseOrder               0\n",
       "Customer_id             0\n",
       "Interaction             0\n",
       "City                    0\n",
       "State                   0\n",
       "County                  0\n",
       "Zip                     0\n",
       "Lat                     0\n",
       "Lng                     0\n",
       "Population              0\n",
       "Area                    0\n",
       "Timezone                0\n",
       "Job                     0\n",
       "Children                0\n",
       "Age                     0\n",
       "Education               0\n",
       "Employment              0\n",
       "Income                  0\n",
       "Marital                 0\n",
       "Gender                  0\n",
       "Churn                   0\n",
       "Outage_sec_perweek      0\n",
       "Email                   0\n",
       "Contacts                0\n",
       "Yearly_equip_failure    0\n",
       "Techie                  0\n",
       "Contract                0\n",
       "Port_modem              0\n",
       "Tablet                  0\n",
       "InternetService         0\n",
       "Phone                   0\n",
       "Multiple                0\n",
       "OnlineSecurity          0\n",
       "OnlineBackup            0\n",
       "DeviceProtection        0\n",
       "TechSupport             0\n",
       "StreamingTV             0\n",
       "StreamingMovies         0\n",
       "PaperlessBilling        0\n",
       "PaymentMethod           0\n",
       "Tenure                  0\n",
       "MonthlyCharge           0\n",
       "Bandwidth_GB_Year       0\n",
       "item1                   0\n",
       "item2                   0\n",
       "item3                   0\n",
       "item4                   0\n",
       "item5                   0\n",
       "item6                   0\n",
       "item7                   0\n",
       "item8                   0\n",
       "dtype: int64"
      ]
     },
     "execution_count": 34,
     "metadata": {},
     "output_type": "execute_result"
    }
   ],
   "source": [
    "churn.isnull().sum()"
   ]
  },
  {
   "cell_type": "markdown",
   "id": "ecfb51d1-d255-4f48-8763-726cc2c856d5",
   "metadata": {},
   "source": [
    "### Detecting outliner in dataset"
   ]
  },
  {
   "cell_type": "code",
   "execution_count": 35,
   "id": "074c16c2-fbe8-463b-b2dc-72211deb8a1c",
   "metadata": {},
   "outputs": [
    {
     "data": {
      "text/html": [
       "<div>\n",
       "<style scoped>\n",
       "    .dataframe tbody tr th:only-of-type {\n",
       "        vertical-align: middle;\n",
       "    }\n",
       "\n",
       "    .dataframe tbody tr th {\n",
       "        vertical-align: top;\n",
       "    }\n",
       "\n",
       "    .dataframe thead th {\n",
       "        text-align: right;\n",
       "    }\n",
       "</style>\n",
       "<table border=\"1\" class=\"dataframe\">\n",
       "  <thead>\n",
       "    <tr style=\"text-align: right;\">\n",
       "      <th></th>\n",
       "      <th>Unnamed: 0</th>\n",
       "      <th>CaseOrder</th>\n",
       "      <th>Zip</th>\n",
       "      <th>Lat</th>\n",
       "      <th>Lng</th>\n",
       "      <th>Population</th>\n",
       "      <th>Children</th>\n",
       "      <th>Age</th>\n",
       "      <th>Income</th>\n",
       "      <th>Outage_sec_perweek</th>\n",
       "      <th>Email</th>\n",
       "      <th>Contacts</th>\n",
       "      <th>Yearly_equip_failure</th>\n",
       "      <th>Tenure</th>\n",
       "      <th>MonthlyCharge</th>\n",
       "      <th>Bandwidth_GB_Year</th>\n",
       "      <th>item1</th>\n",
       "      <th>item2</th>\n",
       "      <th>item3</th>\n",
       "      <th>item4</th>\n",
       "      <th>item5</th>\n",
       "      <th>item6</th>\n",
       "      <th>item7</th>\n",
       "      <th>item8</th>\n",
       "    </tr>\n",
       "  </thead>\n",
       "  <tbody>\n",
       "    <tr>\n",
       "      <th>count</th>\n",
       "      <td>10000.00000</td>\n",
       "      <td>10000.00000</td>\n",
       "      <td>10000.000000</td>\n",
       "      <td>10000.000000</td>\n",
       "      <td>10000.000000</td>\n",
       "      <td>10000.000000</td>\n",
       "      <td>10000.000000</td>\n",
       "      <td>10000.000000</td>\n",
       "      <td>10000.000000</td>\n",
       "      <td>10000.000000</td>\n",
       "      <td>10000.000000</td>\n",
       "      <td>10000.000000</td>\n",
       "      <td>10000.000000</td>\n",
       "      <td>10000.000000</td>\n",
       "      <td>10000.000000</td>\n",
       "      <td>10000.000000</td>\n",
       "      <td>10000.000000</td>\n",
       "      <td>10000.000000</td>\n",
       "      <td>10000.000000</td>\n",
       "      <td>10000.000000</td>\n",
       "      <td>10000.000000</td>\n",
       "      <td>10000.000000</td>\n",
       "      <td>10000.000000</td>\n",
       "      <td>10000.000000</td>\n",
       "    </tr>\n",
       "    <tr>\n",
       "      <th>mean</th>\n",
       "      <td>5000.50000</td>\n",
       "      <td>5000.50000</td>\n",
       "      <td>49153.319600</td>\n",
       "      <td>38.757567</td>\n",
       "      <td>-90.782536</td>\n",
       "      <td>9756.562400</td>\n",
       "      <td>1.822500</td>\n",
       "      <td>53.275748</td>\n",
       "      <td>38256.017897</td>\n",
       "      <td>11.452955</td>\n",
       "      <td>12.016000</td>\n",
       "      <td>0.994200</td>\n",
       "      <td>0.398000</td>\n",
       "      <td>34.656864</td>\n",
       "      <td>174.076305</td>\n",
       "      <td>3397.166397</td>\n",
       "      <td>3.490800</td>\n",
       "      <td>3.505100</td>\n",
       "      <td>3.487000</td>\n",
       "      <td>3.497500</td>\n",
       "      <td>3.492900</td>\n",
       "      <td>3.497300</td>\n",
       "      <td>3.509500</td>\n",
       "      <td>3.495600</td>\n",
       "    </tr>\n",
       "    <tr>\n",
       "      <th>std</th>\n",
       "      <td>2886.89568</td>\n",
       "      <td>2886.89568</td>\n",
       "      <td>27532.196108</td>\n",
       "      <td>5.437389</td>\n",
       "      <td>15.156142</td>\n",
       "      <td>14432.698671</td>\n",
       "      <td>1.925971</td>\n",
       "      <td>18.003063</td>\n",
       "      <td>24747.872761</td>\n",
       "      <td>7.025921</td>\n",
       "      <td>3.025898</td>\n",
       "      <td>0.988466</td>\n",
       "      <td>0.635953</td>\n",
       "      <td>25.182812</td>\n",
       "      <td>43.335473</td>\n",
       "      <td>2072.718575</td>\n",
       "      <td>1.037797</td>\n",
       "      <td>1.034641</td>\n",
       "      <td>1.027977</td>\n",
       "      <td>1.025816</td>\n",
       "      <td>1.024819</td>\n",
       "      <td>1.033586</td>\n",
       "      <td>1.028502</td>\n",
       "      <td>1.028633</td>\n",
       "    </tr>\n",
       "    <tr>\n",
       "      <th>min</th>\n",
       "      <td>1.00000</td>\n",
       "      <td>1.00000</td>\n",
       "      <td>601.000000</td>\n",
       "      <td>17.966120</td>\n",
       "      <td>-171.688150</td>\n",
       "      <td>0.000000</td>\n",
       "      <td>0.000000</td>\n",
       "      <td>18.000000</td>\n",
       "      <td>740.660000</td>\n",
       "      <td>-1.348571</td>\n",
       "      <td>1.000000</td>\n",
       "      <td>0.000000</td>\n",
       "      <td>0.000000</td>\n",
       "      <td>1.000259</td>\n",
       "      <td>77.505230</td>\n",
       "      <td>155.506715</td>\n",
       "      <td>1.000000</td>\n",
       "      <td>1.000000</td>\n",
       "      <td>1.000000</td>\n",
       "      <td>1.000000</td>\n",
       "      <td>1.000000</td>\n",
       "      <td>1.000000</td>\n",
       "      <td>1.000000</td>\n",
       "      <td>1.000000</td>\n",
       "    </tr>\n",
       "    <tr>\n",
       "      <th>25%</th>\n",
       "      <td>2500.75000</td>\n",
       "      <td>2500.75000</td>\n",
       "      <td>26292.500000</td>\n",
       "      <td>35.341828</td>\n",
       "      <td>-97.082812</td>\n",
       "      <td>738.000000</td>\n",
       "      <td>1.000000</td>\n",
       "      <td>41.000000</td>\n",
       "      <td>23660.790000</td>\n",
       "      <td>8.054362</td>\n",
       "      <td>10.000000</td>\n",
       "      <td>0.000000</td>\n",
       "      <td>0.000000</td>\n",
       "      <td>8.700329</td>\n",
       "      <td>141.071078</td>\n",
       "      <td>1312.130487</td>\n",
       "      <td>3.000000</td>\n",
       "      <td>3.000000</td>\n",
       "      <td>3.000000</td>\n",
       "      <td>3.000000</td>\n",
       "      <td>3.000000</td>\n",
       "      <td>3.000000</td>\n",
       "      <td>3.000000</td>\n",
       "      <td>3.000000</td>\n",
       "    </tr>\n",
       "    <tr>\n",
       "      <th>50%</th>\n",
       "      <td>5000.50000</td>\n",
       "      <td>5000.50000</td>\n",
       "      <td>48869.500000</td>\n",
       "      <td>39.395800</td>\n",
       "      <td>-87.918800</td>\n",
       "      <td>2910.500000</td>\n",
       "      <td>1.000000</td>\n",
       "      <td>53.275748</td>\n",
       "      <td>33186.785000</td>\n",
       "      <td>10.202896</td>\n",
       "      <td>12.000000</td>\n",
       "      <td>1.000000</td>\n",
       "      <td>0.000000</td>\n",
       "      <td>36.196030</td>\n",
       "      <td>169.915400</td>\n",
       "      <td>3382.424000</td>\n",
       "      <td>3.000000</td>\n",
       "      <td>4.000000</td>\n",
       "      <td>3.000000</td>\n",
       "      <td>3.000000</td>\n",
       "      <td>3.000000</td>\n",
       "      <td>3.000000</td>\n",
       "      <td>4.000000</td>\n",
       "      <td>3.000000</td>\n",
       "    </tr>\n",
       "    <tr>\n",
       "      <th>75%</th>\n",
       "      <td>7500.25000</td>\n",
       "      <td>7500.25000</td>\n",
       "      <td>71866.500000</td>\n",
       "      <td>42.106908</td>\n",
       "      <td>-80.088745</td>\n",
       "      <td>13168.000000</td>\n",
       "      <td>3.000000</td>\n",
       "      <td>65.000000</td>\n",
       "      <td>45504.192500</td>\n",
       "      <td>12.487644</td>\n",
       "      <td>14.000000</td>\n",
       "      <td>2.000000</td>\n",
       "      <td>1.000000</td>\n",
       "      <td>60.153487</td>\n",
       "      <td>203.777441</td>\n",
       "      <td>5466.284500</td>\n",
       "      <td>4.000000</td>\n",
       "      <td>4.000000</td>\n",
       "      <td>4.000000</td>\n",
       "      <td>4.000000</td>\n",
       "      <td>4.000000</td>\n",
       "      <td>4.000000</td>\n",
       "      <td>4.000000</td>\n",
       "      <td>4.000000</td>\n",
       "    </tr>\n",
       "    <tr>\n",
       "      <th>max</th>\n",
       "      <td>10000.00000</td>\n",
       "      <td>10000.00000</td>\n",
       "      <td>99929.000000</td>\n",
       "      <td>70.640660</td>\n",
       "      <td>-65.667850</td>\n",
       "      <td>111850.000000</td>\n",
       "      <td>10.000000</td>\n",
       "      <td>89.000000</td>\n",
       "      <td>258900.700000</td>\n",
       "      <td>47.049280</td>\n",
       "      <td>23.000000</td>\n",
       "      <td>7.000000</td>\n",
       "      <td>6.000000</td>\n",
       "      <td>71.999280</td>\n",
       "      <td>315.878600</td>\n",
       "      <td>7158.982000</td>\n",
       "      <td>7.000000</td>\n",
       "      <td>7.000000</td>\n",
       "      <td>8.000000</td>\n",
       "      <td>7.000000</td>\n",
       "      <td>7.000000</td>\n",
       "      <td>8.000000</td>\n",
       "      <td>7.000000</td>\n",
       "      <td>8.000000</td>\n",
       "    </tr>\n",
       "  </tbody>\n",
       "</table>\n",
       "</div>"
      ],
      "text/plain": [
       "        Unnamed: 0    CaseOrder           Zip           Lat           Lng  \\\n",
       "count  10000.00000  10000.00000  10000.000000  10000.000000  10000.000000   \n",
       "mean    5000.50000   5000.50000  49153.319600     38.757567    -90.782536   \n",
       "std     2886.89568   2886.89568  27532.196108      5.437389     15.156142   \n",
       "min        1.00000      1.00000    601.000000     17.966120   -171.688150   \n",
       "25%     2500.75000   2500.75000  26292.500000     35.341828    -97.082812   \n",
       "50%     5000.50000   5000.50000  48869.500000     39.395800    -87.918800   \n",
       "75%     7500.25000   7500.25000  71866.500000     42.106908    -80.088745   \n",
       "max    10000.00000  10000.00000  99929.000000     70.640660    -65.667850   \n",
       "\n",
       "          Population      Children           Age         Income  \\\n",
       "count   10000.000000  10000.000000  10000.000000   10000.000000   \n",
       "mean     9756.562400      1.822500     53.275748   38256.017897   \n",
       "std     14432.698671      1.925971     18.003063   24747.872761   \n",
       "min         0.000000      0.000000     18.000000     740.660000   \n",
       "25%       738.000000      1.000000     41.000000   23660.790000   \n",
       "50%      2910.500000      1.000000     53.275748   33186.785000   \n",
       "75%     13168.000000      3.000000     65.000000   45504.192500   \n",
       "max    111850.000000     10.000000     89.000000  258900.700000   \n",
       "\n",
       "       Outage_sec_perweek         Email      Contacts  Yearly_equip_failure  \\\n",
       "count        10000.000000  10000.000000  10000.000000          10000.000000   \n",
       "mean            11.452955     12.016000      0.994200              0.398000   \n",
       "std              7.025921      3.025898      0.988466              0.635953   \n",
       "min             -1.348571      1.000000      0.000000              0.000000   \n",
       "25%              8.054362     10.000000      0.000000              0.000000   \n",
       "50%             10.202896     12.000000      1.000000              0.000000   \n",
       "75%             12.487644     14.000000      2.000000              1.000000   \n",
       "max             47.049280     23.000000      7.000000              6.000000   \n",
       "\n",
       "             Tenure  MonthlyCharge  Bandwidth_GB_Year         item1  \\\n",
       "count  10000.000000   10000.000000       10000.000000  10000.000000   \n",
       "mean      34.656864     174.076305        3397.166397      3.490800   \n",
       "std       25.182812      43.335473        2072.718575      1.037797   \n",
       "min        1.000259      77.505230         155.506715      1.000000   \n",
       "25%        8.700329     141.071078        1312.130487      3.000000   \n",
       "50%       36.196030     169.915400        3382.424000      3.000000   \n",
       "75%       60.153487     203.777441        5466.284500      4.000000   \n",
       "max       71.999280     315.878600        7158.982000      7.000000   \n",
       "\n",
       "              item2         item3         item4         item5         item6  \\\n",
       "count  10000.000000  10000.000000  10000.000000  10000.000000  10000.000000   \n",
       "mean       3.505100      3.487000      3.497500      3.492900      3.497300   \n",
       "std        1.034641      1.027977      1.025816      1.024819      1.033586   \n",
       "min        1.000000      1.000000      1.000000      1.000000      1.000000   \n",
       "25%        3.000000      3.000000      3.000000      3.000000      3.000000   \n",
       "50%        4.000000      3.000000      3.000000      3.000000      3.000000   \n",
       "75%        4.000000      4.000000      4.000000      4.000000      4.000000   \n",
       "max        7.000000      8.000000      7.000000      7.000000      8.000000   \n",
       "\n",
       "              item7         item8  \n",
       "count  10000.000000  10000.000000  \n",
       "mean       3.509500      3.495600  \n",
       "std        1.028502      1.028633  \n",
       "min        1.000000      1.000000  \n",
       "25%        3.000000      3.000000  \n",
       "50%        4.000000      3.000000  \n",
       "75%        4.000000      4.000000  \n",
       "max        7.000000      8.000000  "
      ]
     },
     "metadata": {},
     "output_type": "display_data"
    }
   ],
   "source": [
    "with pd.option_context('display.max_columns', None): #Shows all columns \n",
    "    display(churn.describe())"
   ]
  },
  {
   "cell_type": "markdown",
   "id": "8cc9b2e6-cbb3-4c9a-b493-53cf252bdf86",
   "metadata": {},
   "source": [
    "### Exploring Outage_sec_perweek column"
   ]
  },
  {
   "cell_type": "code",
   "execution_count": 36,
   "id": "9b378339-79f7-4c34-b502-40cfbf0c47e2",
   "metadata": {},
   "outputs": [
    {
     "data": {
      "text/plain": [
       "11"
      ]
     },
     "execution_count": 36,
     "metadata": {},
     "output_type": "execute_result"
    }
   ],
   "source": [
    "only_outage = churn['Outage_sec_perweek']\n",
    "(only_outage < 0).sum()"
   ]
  },
  {
   "cell_type": "code",
   "execution_count": 37,
   "id": "787b971a-3781-4e5e-97e1-467971b6b28d",
   "metadata": {},
   "outputs": [
    {
     "data": {
      "text/plain": [
       "4167   -1.348571\n",
       "1904   -1.195428\n",
       "4427   -1.099934\n",
       "6093   -0.787115\n",
       "6577   -0.527396\n",
       "4184   -0.352431\n",
       "1997   -0.339214\n",
       "8194   -0.214328\n",
       "3069   -0.206145\n",
       "3629   -0.152845\n",
       "6463   -0.144644\n",
       "7339    0.113821\n",
       "908     0.169351\n",
       "4697    0.278712\n",
       "7070    0.359073\n",
       "9402    0.683623\n",
       "2984    0.840953\n",
       "8191    0.852520\n",
       "8180    0.915846\n",
       "7389    0.994552\n",
       "Name: Outage_sec_perweek, dtype: float64"
      ]
     },
     "execution_count": 37,
     "metadata": {},
     "output_type": "execute_result"
    }
   ],
   "source": [
    "only_outage.sort_values().head(20)"
   ]
  },
  {
   "cell_type": "code",
   "execution_count": 38,
   "id": "04409908-1348-4949-84c8-36b030699f90",
   "metadata": {},
   "outputs": [
    {
     "data": {
      "image/png": "[encoded data removed]",
      "text/plain": [
       "<Figure size 640x480 with 1 Axes>"
      ]
     },
     "metadata": {},
     "output_type": "display_data"
    }
   ],
   "source": [
    "plt.hist(churn['Outage_sec_perweek'])\n",
    "plt.show()"
   ]
  },
  {
   "cell_type": "code",
   "execution_count": 39,
   "id": "81ff813e-9c84-4a4f-bce7-00d6e11323a5",
   "metadata": {},
   "outputs": [
    {
     "data": {
      "image/png": "[encoded data removed]",
      "text/plain": [
       "<Figure size 640x480 with 1 Axes>"
      ]
     },
     "metadata": {},
     "output_type": "display_data"
    }
   ],
   "source": [
    "sns.boxplot(x = 'Outage_sec_perweek', data = churn)\n",
    "plt.show()"
   ]
  },
  {
   "cell_type": "code",
   "execution_count": 40,
   "id": "87e40cb7-c1d9-455d-bff1-3d96b9b4464a",
   "metadata": {},
   "outputs": [
    {
     "data": {
      "text/plain": [
       "500"
      ]
     },
     "execution_count": 40,
     "metadata": {},
     "output_type": "execute_result"
    }
   ],
   "source": [
    "(only_outage > 30).sum()"
   ]
  },
  {
   "cell_type": "code",
   "execution_count": 41,
   "id": "a816ad73-aebf-422f-8ecb-dfc8a1d1b5bd",
   "metadata": {},
   "outputs": [],
   "source": [
    "churn['Outage_sec_perweek'] = np.abs(churn['Outage_sec_perweek'])"
   ]
  },
  {
   "cell_type": "code",
   "execution_count": 42,
   "id": "dd2396d0-db7b-46d8-8cca-92fcd914a0cf",
   "metadata": {},
   "outputs": [
    {
     "data": {
      "text/plain": [
       "count    10000.000000\n",
       "mean        11.454229\n",
       "std          7.023844\n",
       "min          0.113821\n",
       "25%          8.054362\n",
       "50%         10.202896\n",
       "75%         12.487644\n",
       "max         47.049280\n",
       "Name: Outage_sec_perweek, dtype: float64"
      ]
     },
     "execution_count": 42,
     "metadata": {},
     "output_type": "execute_result"
    }
   ],
   "source": [
    "churn['Outage_sec_perweek'].describe()"
   ]
  },
  {
   "cell_type": "code",
   "execution_count": 43,
   "id": "70a2a402-3688-4c58-a31a-3c64c981c831",
   "metadata": {},
   "outputs": [
    {
     "data": {
      "image/png": "[encoded data removed]",
      "text/plain": [
       "<Figure size 640x480 with 1 Axes>"
      ]
     },
     "metadata": {},
     "output_type": "display_data"
    }
   ],
   "source": [
    "sns.boxplot(x = 'Outage_sec_perweek', data = churn)\n",
    "plt.show()"
   ]
  },
  {
   "cell_type": "markdown",
   "id": "b2a31852-83b4-49b7-8c12-a4b42e97e572",
   "metadata": {},
   "source": [
    "### Churn column cat re-expression"
   ]
  },
  {
   "cell_type": "code",
   "execution_count": null,
   "id": "75304e2f-f82a-4ea1-8721-3551fb7014b3",
   "metadata": {},
   "outputs": [],
   "source": [
    "churn.Churn.unique()"
   ]
  },
  {
   "cell_type": "code",
   "execution_count": null,
   "id": "b52e4ddc-3199-4b34-bc30-c2168d85cc8e",
   "metadata": {},
   "outputs": [],
   "source": [
    "churn['churn_cat'] = churn['Churn']\n",
    "churn['churn_cat'].head()"
   ]
  },
  {
   "cell_type": "code",
   "execution_count": null,
   "id": "36f70693-a289-4998-90a2-2d73ee47cceb",
   "metadata": {},
   "outputs": [],
   "source": [
    "dict_churn = {\"churn_cat\": {\"No\": 0, \"Yes\": 1}}"
   ]
  },
  {
   "cell_type": "code",
   "execution_count": null,
   "id": "c51435de-0db5-4af5-836d-22b66c9e637a",
   "metadata": {},
   "outputs": [],
   "source": [
    "churn.replace(dict_churn, inplace=True)\n",
    "churn['churn_cat'].head()"
   ]
  },
  {
   "cell_type": "markdown",
   "id": "7577538c-a5bb-4a41-800b-fb18994c6018",
   "metadata": {},
   "source": [
    "### Techie column cat re-expression"
   ]
  },
  {
   "cell_type": "code",
   "execution_count": 44,
   "id": "cec1786a-0862-4392-9205-3a5dbe08b5cb",
   "metadata": {},
   "outputs": [
    {
     "data": {
      "text/plain": [
       "array(['No', 'Yes'], dtype=object)"
      ]
     },
     "execution_count": 44,
     "metadata": {},
     "output_type": "execute_result"
    }
   ],
   "source": [
    "churn.Techie.unique()"
   ]
  },
  {
   "cell_type": "code",
   "execution_count": 45,
   "id": "485d3fd6-d0d7-4cd4-be9e-7e155562daef",
   "metadata": {},
   "outputs": [
    {
     "data": {
      "text/plain": [
       "0     No\n",
       "1    Yes\n",
       "2    Yes\n",
       "3    Yes\n",
       "4     No\n",
       "Name: techie_cat, dtype: object"
      ]
     },
     "execution_count": 45,
     "metadata": {},
     "output_type": "execute_result"
    }
   ],
   "source": [
    "churn['techie_cat'] = churn['Techie']\n",
    "churn['techie_cat'].head()"
   ]
  },
  {
   "cell_type": "code",
   "execution_count": 46,
   "id": "66080e72-9d5b-4134-9af1-e0ae9233ee20",
   "metadata": {},
   "outputs": [],
   "source": [
    "dict_techie = {\"techie_cat\": {\"No\": 0, \"Yes\": 1}}"
   ]
  },
  {
   "cell_type": "code",
   "execution_count": 47,
   "id": "3ab4dcf5-aff9-4275-a3f8-14623928bd84",
   "metadata": {},
   "outputs": [
    {
     "data": {
      "text/plain": [
       "0    0\n",
       "1    1\n",
       "2    1\n",
       "3    1\n",
       "4    0\n",
       "Name: techie_cat, dtype: int64"
      ]
     },
     "execution_count": 47,
     "metadata": {},
     "output_type": "execute_result"
    }
   ],
   "source": [
    "churn.replace(dict_techie, inplace=True)\n",
    "churn['techie_cat'].head()"
   ]
  },
  {
   "cell_type": "markdown",
   "id": "3239572b-e4ca-468c-99b7-704ecfd66635",
   "metadata": {},
   "source": [
    "### Port_modem column re-expression"
   ]
  },
  {
   "cell_type": "code",
   "execution_count": 48,
   "id": "87bafff5-bf1a-4511-8a01-25084e4fa526",
   "metadata": {},
   "outputs": [
    {
     "data": {
      "text/plain": [
       "array(['Yes', 'No'], dtype=object)"
      ]
     },
     "execution_count": 48,
     "metadata": {},
     "output_type": "execute_result"
    }
   ],
   "source": [
    "churn.Port_modem.unique()"
   ]
  },
  {
   "cell_type": "code",
   "execution_count": 49,
   "id": "9b609ccb-aea9-4138-a6f5-c4de6838de1c",
   "metadata": {},
   "outputs": [
    {
     "data": {
      "text/plain": [
       "0    Yes\n",
       "1     No\n",
       "2    Yes\n",
       "3     No\n",
       "4    Yes\n",
       "Name: modem_cat, dtype: object"
      ]
     },
     "execution_count": 49,
     "metadata": {},
     "output_type": "execute_result"
    }
   ],
   "source": [
    "churn['modem_cat'] = churn['Port_modem']\n",
    "churn['modem_cat'].head()"
   ]
  },
  {
   "cell_type": "code",
   "execution_count": 50,
   "id": "62373f10-5982-4970-b8b7-85bfba224190",
   "metadata": {},
   "outputs": [
    {
     "data": {
      "text/plain": [
       "0    1\n",
       "1    0\n",
       "2    1\n",
       "3    0\n",
       "4    1\n",
       "Name: modem_cat, dtype: int64"
      ]
     },
     "execution_count": 50,
     "metadata": {},
     "output_type": "execute_result"
    }
   ],
   "source": [
    "dict_modem = {\"modem_cat\": {\"No\": 0, \"Yes\": 1}}\n",
    "churn.replace(dict_modem, inplace=True)\n",
    "churn['modem_cat'].head()"
   ]
  },
  {
   "cell_type": "markdown",
   "id": "d213fe99-bb70-4e3d-bb22-28052c53e62a",
   "metadata": {},
   "source": [
    "### Tablet column re-expression"
   ]
  },
  {
   "cell_type": "code",
   "execution_count": 51,
   "id": "b4cd8d6d-60fa-4443-a63b-dba204d6e4a6",
   "metadata": {},
   "outputs": [
    {
     "data": {
      "text/plain": [
       "array(['Yes', 'No'], dtype=object)"
      ]
     },
     "execution_count": 51,
     "metadata": {},
     "output_type": "execute_result"
    }
   ],
   "source": [
    "churn.Tablet.unique()"
   ]
  },
  {
   "cell_type": "code",
   "execution_count": 52,
   "id": "73c9c11b-4b79-416d-b4f4-255fb3b01b5d",
   "metadata": {},
   "outputs": [
    {
     "data": {
      "text/plain": [
       "0    Yes\n",
       "1    Yes\n",
       "2     No\n",
       "3     No\n",
       "4     No\n",
       "Name: tablet_cat, dtype: object"
      ]
     },
     "execution_count": 52,
     "metadata": {},
     "output_type": "execute_result"
    }
   ],
   "source": [
    "churn['tablet_cat'] = churn['Tablet']\n",
    "churn['tablet_cat'].head()"
   ]
  },
  {
   "cell_type": "code",
   "execution_count": 53,
   "id": "39f7e1ea-3d7f-4714-a11a-a7ba53bc27e5",
   "metadata": {},
   "outputs": [
    {
     "data": {
      "text/plain": [
       "0    1\n",
       "1    1\n",
       "2    0\n",
       "3    0\n",
       "4    0\n",
       "Name: tablet_cat, dtype: int64"
      ]
     },
     "execution_count": 53,
     "metadata": {},
     "output_type": "execute_result"
    }
   ],
   "source": [
    "dict_tablet = {\"tablet_cat\": {\"No\": 0, \"Yes\": 1}}\n",
    "churn.replace(dict_tablet, inplace=True)\n",
    "churn['tablet_cat'].head()"
   ]
  },
  {
   "cell_type": "markdown",
   "id": "7e674133-1a27-427a-b365-892c506e1d4f",
   "metadata": {},
   "source": [
    "### Phone column re-expression"
   ]
  },
  {
   "cell_type": "code",
   "execution_count": 54,
   "id": "0b8606e4-0071-48c1-9e07-52816a1150d6",
   "metadata": {},
   "outputs": [
    {
     "data": {
      "text/plain": [
       "array(['Yes', 'No'], dtype=object)"
      ]
     },
     "execution_count": 54,
     "metadata": {},
     "output_type": "execute_result"
    }
   ],
   "source": [
    "churn.Phone.unique()"
   ]
  },
  {
   "cell_type": "code",
   "execution_count": 55,
   "id": "6d518613-e882-41cb-88af-25c85f42f34d",
   "metadata": {},
   "outputs": [
    {
     "data": {
      "text/plain": [
       "0    Yes\n",
       "1    Yes\n",
       "2    Yes\n",
       "3    Yes\n",
       "4     No\n",
       "Name: phone_cat, dtype: object"
      ]
     },
     "execution_count": 55,
     "metadata": {},
     "output_type": "execute_result"
    }
   ],
   "source": [
    "churn['phone_cat'] = churn['Phone']\n",
    "churn['phone_cat'].head()"
   ]
  },
  {
   "cell_type": "code",
   "execution_count": 56,
   "id": "cc8489af-05b9-41dc-920e-d66863fac8d5",
   "metadata": {},
   "outputs": [
    {
     "data": {
      "text/plain": [
       "0    1\n",
       "1    1\n",
       "2    1\n",
       "3    1\n",
       "4    0\n",
       "Name: phone_cat, dtype: int64"
      ]
     },
     "execution_count": 56,
     "metadata": {},
     "output_type": "execute_result"
    }
   ],
   "source": [
    "dict_phone = {\"phone_cat\": {\"No\": 0, \"Yes\": 1}}\n",
    "churn.replace(dict_phone, inplace=True)\n",
    "churn['phone_cat'].head()"
   ]
  },
  {
   "cell_type": "markdown",
   "id": "ef60d088-d0d1-427c-a785-9c9ab6bbc660",
   "metadata": {},
   "source": [
    "### Multiple column cat re-expression"
   ]
  },
  {
   "cell_type": "code",
   "execution_count": 57,
   "id": "477d9538-850f-402b-926a-fe6f1bb6f3e5",
   "metadata": {},
   "outputs": [
    {
     "data": {
      "text/plain": [
       "array(['No', 'Yes'], dtype=object)"
      ]
     },
     "execution_count": 57,
     "metadata": {},
     "output_type": "execute_result"
    }
   ],
   "source": [
    "churn.Multiple.unique()"
   ]
  },
  {
   "cell_type": "code",
   "execution_count": 58,
   "id": "e1eb0473-6d16-4242-9022-6ab7a3162cdb",
   "metadata": {},
   "outputs": [
    {
     "data": {
      "text/plain": [
       "0     No\n",
       "1    Yes\n",
       "2    Yes\n",
       "3     No\n",
       "4     No\n",
       "Name: multi_cat, dtype: object"
      ]
     },
     "execution_count": 58,
     "metadata": {},
     "output_type": "execute_result"
    }
   ],
   "source": [
    "churn['multi_cat'] = churn['Multiple']\n",
    "churn['multi_cat'].head()"
   ]
  },
  {
   "cell_type": "code",
   "execution_count": 59,
   "id": "3bea1a69-a6ab-4d7c-a7ec-54a4a792b31b",
   "metadata": {},
   "outputs": [
    {
     "data": {
      "text/plain": [
       "0    0\n",
       "1    1\n",
       "2    1\n",
       "3    0\n",
       "4    0\n",
       "Name: multi_cat, dtype: int64"
      ]
     },
     "execution_count": 59,
     "metadata": {},
     "output_type": "execute_result"
    }
   ],
   "source": [
    "dict_multi = {\"multi_cat\": {\"No\": 0, \"Yes\": 1}}\n",
    "churn.replace(dict_multi, inplace=True)\n",
    "churn['multi_cat'].head()"
   ]
  },
  {
   "cell_type": "markdown",
   "id": "29f8eeb0-3f8b-407c-8a62-58222fcdba3f",
   "metadata": {},
   "source": [
    "### OnlineSecurity column cat re-expression"
   ]
  },
  {
   "cell_type": "code",
   "execution_count": 60,
   "id": "92341455-8671-47e4-b79f-d34dfaba4cc3",
   "metadata": {},
   "outputs": [
    {
     "data": {
      "text/plain": [
       "array(['Yes', 'No'], dtype=object)"
      ]
     },
     "execution_count": 60,
     "metadata": {},
     "output_type": "execute_result"
    }
   ],
   "source": [
    "churn.OnlineSecurity.unique()"
   ]
  },
  {
   "cell_type": "code",
   "execution_count": 61,
   "id": "b798d43d-9a67-45ca-9f6b-5381161cac0c",
   "metadata": {},
   "outputs": [
    {
     "data": {
      "text/plain": [
       "0    Yes\n",
       "1    Yes\n",
       "2     No\n",
       "3    Yes\n",
       "4     No\n",
       "Name: sec_cat, dtype: object"
      ]
     },
     "execution_count": 61,
     "metadata": {},
     "output_type": "execute_result"
    }
   ],
   "source": [
    "churn['sec_cat'] = churn['OnlineSecurity']\n",
    "churn['sec_cat'].head()"
   ]
  },
  {
   "cell_type": "code",
   "execution_count": 62,
   "id": "06fa2dd1-a722-4a99-afdf-44c82bb3d38e",
   "metadata": {},
   "outputs": [
    {
     "data": {
      "text/plain": [
       "0    1\n",
       "1    1\n",
       "2    0\n",
       "3    1\n",
       "4    0\n",
       "Name: sec_cat, dtype: int64"
      ]
     },
     "execution_count": 62,
     "metadata": {},
     "output_type": "execute_result"
    }
   ],
   "source": [
    "dict_sec = {\"sec_cat\": {\"No\": 0, \"Yes\": 1}}\n",
    "churn.replace(dict_sec, inplace=True)\n",
    "churn['sec_cat'].head()"
   ]
  },
  {
   "cell_type": "markdown",
   "id": "a16f8d98-de6e-4a8d-badf-80f1b20893cc",
   "metadata": {},
   "source": [
    "### OnlineBackup column cat re-expression"
   ]
  },
  {
   "cell_type": "code",
   "execution_count": 63,
   "id": "43f1733f-597f-4f00-b0fa-35730fc69193",
   "metadata": {},
   "outputs": [
    {
     "data": {
      "text/plain": [
       "array(['Yes', 'No'], dtype=object)"
      ]
     },
     "execution_count": 63,
     "metadata": {},
     "output_type": "execute_result"
    }
   ],
   "source": [
    "churn.OnlineBackup.unique()"
   ]
  },
  {
   "cell_type": "code",
   "execution_count": 64,
   "id": "3acff0dd-bc43-4a3c-8433-755a9fef1f7d",
   "metadata": {},
   "outputs": [
    {
     "data": {
      "text/plain": [
       "0    Yes\n",
       "1     No\n",
       "2     No\n",
       "3     No\n",
       "4     No\n",
       "Name: backup_cat, dtype: object"
      ]
     },
     "execution_count": 64,
     "metadata": {},
     "output_type": "execute_result"
    }
   ],
   "source": [
    "churn['backup_cat'] = churn['OnlineBackup']\n",
    "churn['backup_cat'].head()"
   ]
  },
  {
   "cell_type": "code",
   "execution_count": 65,
   "id": "fc5998cf-3a5f-4993-b74b-a572dd29f329",
   "metadata": {},
   "outputs": [
    {
     "data": {
      "text/plain": [
       "0    1\n",
       "1    0\n",
       "2    0\n",
       "3    0\n",
       "4    0\n",
       "Name: backup_cat, dtype: int64"
      ]
     },
     "execution_count": 65,
     "metadata": {},
     "output_type": "execute_result"
    }
   ],
   "source": [
    "dict_backup = {\"backup_cat\": {\"No\": 0, \"Yes\": 1}}\n",
    "churn.replace(dict_backup, inplace=True)\n",
    "churn['backup_cat'].head()"
   ]
  },
  {
   "cell_type": "markdown",
   "id": "e3c41c23-a3e7-4cbf-9df0-dbf121d2b74c",
   "metadata": {},
   "source": [
    "### DeviceProtection column cat re-expression"
   ]
  },
  {
   "cell_type": "code",
   "execution_count": 66,
   "id": "2a753133-cd91-4fa6-b009-4b60f9184008",
   "metadata": {},
   "outputs": [
    {
     "data": {
      "text/plain": [
       "array(['No', 'Yes'], dtype=object)"
      ]
     },
     "execution_count": 66,
     "metadata": {},
     "output_type": "execute_result"
    }
   ],
   "source": [
    "churn.DeviceProtection.unique()"
   ]
  },
  {
   "cell_type": "code",
   "execution_count": 67,
   "id": "528b0173-352c-45c8-a10c-3f4f1edd4b01",
   "metadata": {},
   "outputs": [
    {
     "data": {
      "text/plain": [
       "0    No\n",
       "1    No\n",
       "2    No\n",
       "3    No\n",
       "4    No\n",
       "Name: prot_cat, dtype: object"
      ]
     },
     "execution_count": 67,
     "metadata": {},
     "output_type": "execute_result"
    }
   ],
   "source": [
    "churn['prot_cat'] = churn['DeviceProtection']\n",
    "churn['prot_cat'].head()"
   ]
  },
  {
   "cell_type": "code",
   "execution_count": 68,
   "id": "a16fc562-e10d-431c-b521-aed1c539b537",
   "metadata": {},
   "outputs": [
    {
     "data": {
      "text/plain": [
       "0    0\n",
       "1    0\n",
       "2    0\n",
       "3    0\n",
       "4    0\n",
       "Name: prot_cat, dtype: int64"
      ]
     },
     "execution_count": 68,
     "metadata": {},
     "output_type": "execute_result"
    }
   ],
   "source": [
    "dict_prot = {\"prot_cat\": {\"No\": 0, \"Yes\": 1}}\n",
    "churn.replace(dict_prot, inplace=True)\n",
    "churn['prot_cat'].head()"
   ]
  },
  {
   "cell_type": "markdown",
   "id": "dd2071fc-49cc-4c50-91ac-3b03bef83be0",
   "metadata": {},
   "source": [
    "### TechSupport column cat re-expression"
   ]
  },
  {
   "cell_type": "code",
   "execution_count": 69,
   "id": "f5705307-2146-4e8c-af54-6acaf27bfdb6",
   "metadata": {},
   "outputs": [
    {
     "data": {
      "text/plain": [
       "array(['No', 'Yes'], dtype=object)"
      ]
     },
     "execution_count": 69,
     "metadata": {},
     "output_type": "execute_result"
    }
   ],
   "source": [
    "churn.TechSupport.unique()"
   ]
  },
  {
   "cell_type": "code",
   "execution_count": 70,
   "id": "7077bbee-fb72-4291-9a4e-32bb3ee3f9f2",
   "metadata": {},
   "outputs": [
    {
     "data": {
      "text/plain": [
       "0     No\n",
       "1     No\n",
       "2     No\n",
       "3     No\n",
       "4    Yes\n",
       "Name: sup_cat, dtype: object"
      ]
     },
     "execution_count": 70,
     "metadata": {},
     "output_type": "execute_result"
    }
   ],
   "source": [
    "churn['sup_cat'] = churn['TechSupport']\n",
    "churn['sup_cat'].head()"
   ]
  },
  {
   "cell_type": "code",
   "execution_count": 71,
   "id": "7dd0252d-0fdf-4efc-9785-c1616ee1b601",
   "metadata": {},
   "outputs": [
    {
     "data": {
      "text/plain": [
       "0    0\n",
       "1    0\n",
       "2    0\n",
       "3    0\n",
       "4    1\n",
       "Name: sup_cat, dtype: int64"
      ]
     },
     "execution_count": 71,
     "metadata": {},
     "output_type": "execute_result"
    }
   ],
   "source": [
    "dict_sup = {\"sup_cat\": {\"No\": 0, \"Yes\": 1}}\n",
    "churn.replace(dict_sup, inplace=True)\n",
    "churn['sup_cat'].head()"
   ]
  },
  {
   "cell_type": "markdown",
   "id": "1326ab6d-2069-4007-a311-e5a38b260f5a",
   "metadata": {},
   "source": [
    "### StreamingTV column cat re-expression"
   ]
  },
  {
   "cell_type": "code",
   "execution_count": 72,
   "id": "11a8a400-aaf4-4921-9363-89be0f7ef682",
   "metadata": {},
   "outputs": [
    {
     "data": {
      "text/plain": [
       "array(['No', 'Yes'], dtype=object)"
      ]
     },
     "execution_count": 72,
     "metadata": {},
     "output_type": "execute_result"
    }
   ],
   "source": [
    "churn.StreamingTV.unique()"
   ]
  },
  {
   "cell_type": "code",
   "execution_count": 73,
   "id": "943636de-7ae4-4235-be1a-3ffa531f29b2",
   "metadata": {},
   "outputs": [
    {
     "data": {
      "text/plain": [
       "0     No\n",
       "1    Yes\n",
       "2     No\n",
       "3    Yes\n",
       "4    Yes\n",
       "Name: streamTV_cat, dtype: object"
      ]
     },
     "execution_count": 73,
     "metadata": {},
     "output_type": "execute_result"
    }
   ],
   "source": [
    "churn['streamTV_cat'] = churn['StreamingTV']\n",
    "churn['streamTV_cat'].head()"
   ]
  },
  {
   "cell_type": "code",
   "execution_count": 74,
   "id": "51d9eb65-5624-44c4-ba28-9bad772eb000",
   "metadata": {},
   "outputs": [
    {
     "data": {
      "text/plain": [
       "0    0\n",
       "1    1\n",
       "2    0\n",
       "3    1\n",
       "4    1\n",
       "Name: streamTV_cat, dtype: int64"
      ]
     },
     "execution_count": 74,
     "metadata": {},
     "output_type": "execute_result"
    }
   ],
   "source": [
    "dict_streamTV = {\"streamTV_cat\": {\"No\": 0, \"Yes\": 1}}\n",
    "churn.replace(dict_streamTV, inplace=True)\n",
    "churn['streamTV_cat'].head()"
   ]
  },
  {
   "cell_type": "markdown",
   "id": "3d8dfbd2-69f1-488f-84f3-a37911aa1280",
   "metadata": {},
   "source": [
    "### StreamingMovies column cat re-expression"
   ]
  },
  {
   "cell_type": "code",
   "execution_count": 75,
   "id": "6e042f79-7eef-4daa-a820-e0f3b739e1ff",
   "metadata": {},
   "outputs": [
    {
     "data": {
      "text/plain": [
       "array(['Yes', 'No'], dtype=object)"
      ]
     },
     "execution_count": 75,
     "metadata": {},
     "output_type": "execute_result"
    }
   ],
   "source": [
    "churn.StreamingMovies.unique()"
   ]
  },
  {
   "cell_type": "code",
   "execution_count": 76,
   "id": "915be7b8-deec-4166-bd74-135338c9822c",
   "metadata": {},
   "outputs": [
    {
     "data": {
      "text/plain": [
       "0    Yes\n",
       "1    Yes\n",
       "2    Yes\n",
       "3     No\n",
       "4     No\n",
       "Name: streamMOV_cat, dtype: object"
      ]
     },
     "execution_count": 76,
     "metadata": {},
     "output_type": "execute_result"
    }
   ],
   "source": [
    "churn['streamMOV_cat'] = churn['StreamingMovies']\n",
    "churn['streamMOV_cat'].head()"
   ]
  },
  {
   "cell_type": "code",
   "execution_count": 77,
   "id": "dc1088d5-63b7-4473-8585-21e810b3fe72",
   "metadata": {},
   "outputs": [
    {
     "data": {
      "text/plain": [
       "0    1\n",
       "1    1\n",
       "2    1\n",
       "3    0\n",
       "4    0\n",
       "Name: streamMOV_cat, dtype: int64"
      ]
     },
     "execution_count": 77,
     "metadata": {},
     "output_type": "execute_result"
    }
   ],
   "source": [
    "dict_streamMOV = {\"streamMOV_cat\": {\"No\": 0, \"Yes\": 1}}\n",
    "churn.replace(dict_streamMOV, inplace=True)\n",
    "churn['streamMOV_cat'].head()"
   ]
  },
  {
   "cell_type": "markdown",
   "id": "1488988c-0bea-4405-8eb0-10ebf1638145",
   "metadata": {},
   "source": [
    "### PaperlessBilling column cat re-expression"
   ]
  },
  {
   "cell_type": "code",
   "execution_count": 78,
   "id": "c4ed6d12-f893-4607-9d67-e786f76df1c3",
   "metadata": {},
   "outputs": [
    {
     "data": {
      "text/plain": [
       "array(['Yes', 'No'], dtype=object)"
      ]
     },
     "execution_count": 78,
     "metadata": {},
     "output_type": "execute_result"
    }
   ],
   "source": [
    "churn.PaperlessBilling.unique()"
   ]
  },
  {
   "cell_type": "code",
   "execution_count": 79,
   "id": "0f405c6d-eec5-4f03-a335-c53af73abf1f",
   "metadata": {},
   "outputs": [
    {
     "data": {
      "text/plain": [
       "0    Yes\n",
       "1    Yes\n",
       "2    Yes\n",
       "3    Yes\n",
       "4     No\n",
       "Name: PaperlessBilling_cat, dtype: object"
      ]
     },
     "execution_count": 79,
     "metadata": {},
     "output_type": "execute_result"
    }
   ],
   "source": [
    "churn['PaperlessBilling_cat'] = churn['PaperlessBilling']\n",
    "churn['PaperlessBilling_cat'].head()"
   ]
  },
  {
   "cell_type": "code",
   "execution_count": 80,
   "id": "ae819c0e-2e38-4bf1-8916-79f5df911a08",
   "metadata": {},
   "outputs": [
    {
     "data": {
      "text/plain": [
       "0    1\n",
       "1    1\n",
       "2    1\n",
       "3    1\n",
       "4    0\n",
       "Name: PaperlessBilling_cat, dtype: int64"
      ]
     },
     "execution_count": 80,
     "metadata": {},
     "output_type": "execute_result"
    }
   ],
   "source": [
    "dict_PaperlessBilling = {\"PaperlessBilling_cat\": {\"No\": 0, \"Yes\": 1}}\n",
    "churn.replace(dict_PaperlessBilling, inplace=True)\n",
    "churn['PaperlessBilling_cat'].head()"
   ]
  },
  {
   "cell_type": "code",
   "execution_count": 81,
   "id": "c85c1b04-ad9c-481d-96f2-9e4d120f65e6",
   "metadata": {},
   "outputs": [
    {
     "data": {
      "text/html": [
       "<div>\n",
       "<style scoped>\n",
       "    .dataframe tbody tr th:only-of-type {\n",
       "        vertical-align: middle;\n",
       "    }\n",
       "\n",
       "    .dataframe tbody tr th {\n",
       "        vertical-align: top;\n",
       "    }\n",
       "\n",
       "    .dataframe thead th {\n",
       "        text-align: right;\n",
       "    }\n",
       "</style>\n",
       "<table border=\"1\" class=\"dataframe\">\n",
       "  <thead>\n",
       "    <tr style=\"text-align: right;\">\n",
       "      <th></th>\n",
       "      <th>Unnamed: 0</th>\n",
       "      <th>CaseOrder</th>\n",
       "      <th>Customer_id</th>\n",
       "      <th>Interaction</th>\n",
       "      <th>City</th>\n",
       "      <th>State</th>\n",
       "      <th>County</th>\n",
       "      <th>Zip</th>\n",
       "      <th>Lat</th>\n",
       "      <th>Lng</th>\n",
       "      <th>Population</th>\n",
       "      <th>Area</th>\n",
       "      <th>Timezone</th>\n",
       "      <th>Job</th>\n",
       "      <th>Children</th>\n",
       "      <th>Age</th>\n",
       "      <th>Education</th>\n",
       "      <th>Employment</th>\n",
       "      <th>Income</th>\n",
       "      <th>Marital</th>\n",
       "      <th>Gender</th>\n",
       "      <th>Churn</th>\n",
       "      <th>Outage_sec_perweek</th>\n",
       "      <th>Email</th>\n",
       "      <th>Contacts</th>\n",
       "      <th>Yearly_equip_failure</th>\n",
       "      <th>Techie</th>\n",
       "      <th>Contract</th>\n",
       "      <th>Port_modem</th>\n",
       "      <th>Tablet</th>\n",
       "      <th>InternetService</th>\n",
       "      <th>Phone</th>\n",
       "      <th>Multiple</th>\n",
       "      <th>OnlineSecurity</th>\n",
       "      <th>OnlineBackup</th>\n",
       "      <th>DeviceProtection</th>\n",
       "      <th>TechSupport</th>\n",
       "      <th>StreamingTV</th>\n",
       "      <th>StreamingMovies</th>\n",
       "      <th>PaperlessBilling</th>\n",
       "      <th>PaymentMethod</th>\n",
       "      <th>Tenure</th>\n",
       "      <th>MonthlyCharge</th>\n",
       "      <th>Bandwidth_GB_Year</th>\n",
       "      <th>item1</th>\n",
       "      <th>item2</th>\n",
       "      <th>item3</th>\n",
       "      <th>item4</th>\n",
       "      <th>item5</th>\n",
       "      <th>item6</th>\n",
       "      <th>item7</th>\n",
       "      <th>item8</th>\n",
       "      <th>techie_cat</th>\n",
       "      <th>modem_cat</th>\n",
       "      <th>tablet_cat</th>\n",
       "      <th>phone_cat</th>\n",
       "      <th>multi_cat</th>\n",
       "      <th>sec_cat</th>\n",
       "      <th>backup_cat</th>\n",
       "      <th>prot_cat</th>\n",
       "      <th>sup_cat</th>\n",
       "      <th>streamTV_cat</th>\n",
       "      <th>streamMOV_cat</th>\n",
       "      <th>PaperlessBilling_cat</th>\n",
       "    </tr>\n",
       "  </thead>\n",
       "  <tbody>\n",
       "    <tr>\n",
       "      <th>0</th>\n",
       "      <td>1</td>\n",
       "      <td>1</td>\n",
       "      <td>K409198</td>\n",
       "      <td>aa90260b-4141-4a24-8e36-b04ce1f4f77b</td>\n",
       "      <td>Point Baker</td>\n",
       "      <td>AK</td>\n",
       "      <td>Prince of Wales-Hyder</td>\n",
       "      <td>99927</td>\n",
       "      <td>56.25100</td>\n",
       "      <td>-133.37571</td>\n",
       "      <td>38</td>\n",
       "      <td>Urban</td>\n",
       "      <td>America/Sitka</td>\n",
       "      <td>Environmental health practitioner</td>\n",
       "      <td>1.0</td>\n",
       "      <td>68.0</td>\n",
       "      <td>Master's Degree</td>\n",
       "      <td>Part Time</td>\n",
       "      <td>28561.990</td>\n",
       "      <td>Widowed</td>\n",
       "      <td>Male</td>\n",
       "      <td>No</td>\n",
       "      <td>6.972566</td>\n",
       "      <td>10</td>\n",
       "      <td>0</td>\n",
       "      <td>1</td>\n",
       "      <td>No</td>\n",
       "      <td>One year</td>\n",
       "      <td>Yes</td>\n",
       "      <td>Yes</td>\n",
       "      <td>Fiber Optic</td>\n",
       "      <td>Yes</td>\n",
       "      <td>No</td>\n",
       "      <td>Yes</td>\n",
       "      <td>Yes</td>\n",
       "      <td>No</td>\n",
       "      <td>No</td>\n",
       "      <td>No</td>\n",
       "      <td>Yes</td>\n",
       "      <td>Yes</td>\n",
       "      <td>Credit Card (automatic)</td>\n",
       "      <td>6.795513</td>\n",
       "      <td>171.449762</td>\n",
       "      <td>904.536110</td>\n",
       "      <td>5</td>\n",
       "      <td>5</td>\n",
       "      <td>5</td>\n",
       "      <td>3</td>\n",
       "      <td>4</td>\n",
       "      <td>4</td>\n",
       "      <td>3</td>\n",
       "      <td>4</td>\n",
       "      <td>0</td>\n",
       "      <td>1</td>\n",
       "      <td>1</td>\n",
       "      <td>1</td>\n",
       "      <td>0</td>\n",
       "      <td>1</td>\n",
       "      <td>1</td>\n",
       "      <td>0</td>\n",
       "      <td>0</td>\n",
       "      <td>0</td>\n",
       "      <td>1</td>\n",
       "      <td>1</td>\n",
       "    </tr>\n",
       "    <tr>\n",
       "      <th>1</th>\n",
       "      <td>2</td>\n",
       "      <td>2</td>\n",
       "      <td>S120509</td>\n",
       "      <td>fb76459f-c047-4a9d-8af9-e0f7d4ac2524</td>\n",
       "      <td>West Branch</td>\n",
       "      <td>MI</td>\n",
       "      <td>Ogemaw</td>\n",
       "      <td>48661</td>\n",
       "      <td>44.32893</td>\n",
       "      <td>-84.24080</td>\n",
       "      <td>10446</td>\n",
       "      <td>Urban</td>\n",
       "      <td>America/Detroit</td>\n",
       "      <td>Programmer, multimedia</td>\n",
       "      <td>1.0</td>\n",
       "      <td>27.0</td>\n",
       "      <td>Regular High School Diploma</td>\n",
       "      <td>Retired</td>\n",
       "      <td>21704.770</td>\n",
       "      <td>Married</td>\n",
       "      <td>Female</td>\n",
       "      <td>Yes</td>\n",
       "      <td>12.014541</td>\n",
       "      <td>12</td>\n",
       "      <td>0</td>\n",
       "      <td>1</td>\n",
       "      <td>Yes</td>\n",
       "      <td>Month-to-month</td>\n",
       "      <td>No</td>\n",
       "      <td>Yes</td>\n",
       "      <td>Fiber Optic</td>\n",
       "      <td>Yes</td>\n",
       "      <td>Yes</td>\n",
       "      <td>Yes</td>\n",
       "      <td>No</td>\n",
       "      <td>No</td>\n",
       "      <td>No</td>\n",
       "      <td>Yes</td>\n",
       "      <td>Yes</td>\n",
       "      <td>Yes</td>\n",
       "      <td>Bank Transfer(automatic)</td>\n",
       "      <td>1.156681</td>\n",
       "      <td>242.948015</td>\n",
       "      <td>800.982766</td>\n",
       "      <td>3</td>\n",
       "      <td>4</td>\n",
       "      <td>3</td>\n",
       "      <td>3</td>\n",
       "      <td>4</td>\n",
       "      <td>3</td>\n",
       "      <td>4</td>\n",
       "      <td>4</td>\n",
       "      <td>1</td>\n",
       "      <td>0</td>\n",
       "      <td>1</td>\n",
       "      <td>1</td>\n",
       "      <td>1</td>\n",
       "      <td>1</td>\n",
       "      <td>0</td>\n",
       "      <td>0</td>\n",
       "      <td>0</td>\n",
       "      <td>1</td>\n",
       "      <td>1</td>\n",
       "      <td>1</td>\n",
       "    </tr>\n",
       "    <tr>\n",
       "      <th>2</th>\n",
       "      <td>3</td>\n",
       "      <td>3</td>\n",
       "      <td>K191035</td>\n",
       "      <td>344d114c-3736-4be5-98f7-c72c281e2d35</td>\n",
       "      <td>Yamhill</td>\n",
       "      <td>OR</td>\n",
       "      <td>Yamhill</td>\n",
       "      <td>97148</td>\n",
       "      <td>45.35589</td>\n",
       "      <td>-123.24657</td>\n",
       "      <td>3735</td>\n",
       "      <td>Urban</td>\n",
       "      <td>America/Los_Angeles</td>\n",
       "      <td>Chief Financial Officer</td>\n",
       "      <td>4.0</td>\n",
       "      <td>50.0</td>\n",
       "      <td>Regular High School Diploma</td>\n",
       "      <td>Student</td>\n",
       "      <td>33186.785</td>\n",
       "      <td>Widowed</td>\n",
       "      <td>Female</td>\n",
       "      <td>No</td>\n",
       "      <td>10.245616</td>\n",
       "      <td>9</td>\n",
       "      <td>0</td>\n",
       "      <td>1</td>\n",
       "      <td>Yes</td>\n",
       "      <td>Two Year</td>\n",
       "      <td>Yes</td>\n",
       "      <td>No</td>\n",
       "      <td>DSL</td>\n",
       "      <td>Yes</td>\n",
       "      <td>Yes</td>\n",
       "      <td>No</td>\n",
       "      <td>No</td>\n",
       "      <td>No</td>\n",
       "      <td>No</td>\n",
       "      <td>No</td>\n",
       "      <td>Yes</td>\n",
       "      <td>Yes</td>\n",
       "      <td>Credit Card (automatic)</td>\n",
       "      <td>15.754144</td>\n",
       "      <td>159.440398</td>\n",
       "      <td>2054.706961</td>\n",
       "      <td>4</td>\n",
       "      <td>4</td>\n",
       "      <td>2</td>\n",
       "      <td>4</td>\n",
       "      <td>4</td>\n",
       "      <td>3</td>\n",
       "      <td>3</td>\n",
       "      <td>3</td>\n",
       "      <td>1</td>\n",
       "      <td>1</td>\n",
       "      <td>0</td>\n",
       "      <td>1</td>\n",
       "      <td>1</td>\n",
       "      <td>0</td>\n",
       "      <td>0</td>\n",
       "      <td>0</td>\n",
       "      <td>0</td>\n",
       "      <td>0</td>\n",
       "      <td>1</td>\n",
       "      <td>1</td>\n",
       "    </tr>\n",
       "    <tr>\n",
       "      <th>3</th>\n",
       "      <td>4</td>\n",
       "      <td>4</td>\n",
       "      <td>D90850</td>\n",
       "      <td>abfa2b40-2d43-4994-b15a-989b8c79e311</td>\n",
       "      <td>Del Mar</td>\n",
       "      <td>CA</td>\n",
       "      <td>San Diego</td>\n",
       "      <td>92014</td>\n",
       "      <td>32.96687</td>\n",
       "      <td>-117.24798</td>\n",
       "      <td>13863</td>\n",
       "      <td>Suburban</td>\n",
       "      <td>America/Los_Angeles</td>\n",
       "      <td>Solicitor</td>\n",
       "      <td>1.0</td>\n",
       "      <td>48.0</td>\n",
       "      <td>Doctorate Degree</td>\n",
       "      <td>Retired</td>\n",
       "      <td>18925.230</td>\n",
       "      <td>Married</td>\n",
       "      <td>Male</td>\n",
       "      <td>No</td>\n",
       "      <td>15.206193</td>\n",
       "      <td>15</td>\n",
       "      <td>2</td>\n",
       "      <td>0</td>\n",
       "      <td>Yes</td>\n",
       "      <td>Two Year</td>\n",
       "      <td>No</td>\n",
       "      <td>No</td>\n",
       "      <td>DSL</td>\n",
       "      <td>Yes</td>\n",
       "      <td>No</td>\n",
       "      <td>Yes</td>\n",
       "      <td>No</td>\n",
       "      <td>No</td>\n",
       "      <td>No</td>\n",
       "      <td>Yes</td>\n",
       "      <td>No</td>\n",
       "      <td>Yes</td>\n",
       "      <td>Mailed Check</td>\n",
       "      <td>17.087227</td>\n",
       "      <td>120.249493</td>\n",
       "      <td>2164.579412</td>\n",
       "      <td>4</td>\n",
       "      <td>4</td>\n",
       "      <td>4</td>\n",
       "      <td>2</td>\n",
       "      <td>5</td>\n",
       "      <td>4</td>\n",
       "      <td>3</td>\n",
       "      <td>3</td>\n",
       "      <td>1</td>\n",
       "      <td>0</td>\n",
       "      <td>0</td>\n",
       "      <td>1</td>\n",
       "      <td>0</td>\n",
       "      <td>1</td>\n",
       "      <td>0</td>\n",
       "      <td>0</td>\n",
       "      <td>0</td>\n",
       "      <td>1</td>\n",
       "      <td>0</td>\n",
       "      <td>1</td>\n",
       "    </tr>\n",
       "    <tr>\n",
       "      <th>4</th>\n",
       "      <td>5</td>\n",
       "      <td>5</td>\n",
       "      <td>K662701</td>\n",
       "      <td>68a861fd-0d20-4e51-a587-8a90407ee574</td>\n",
       "      <td>Needville</td>\n",
       "      <td>TX</td>\n",
       "      <td>Fort Bend</td>\n",
       "      <td>77461</td>\n",
       "      <td>29.38012</td>\n",
       "      <td>-95.80673</td>\n",
       "      <td>11352</td>\n",
       "      <td>Suburban</td>\n",
       "      <td>America/Chicago</td>\n",
       "      <td>Medical illustrator</td>\n",
       "      <td>0.0</td>\n",
       "      <td>83.0</td>\n",
       "      <td>Master's Degree</td>\n",
       "      <td>Student</td>\n",
       "      <td>40074.190</td>\n",
       "      <td>Separated</td>\n",
       "      <td>Male</td>\n",
       "      <td>Yes</td>\n",
       "      <td>8.960316</td>\n",
       "      <td>16</td>\n",
       "      <td>2</td>\n",
       "      <td>1</td>\n",
       "      <td>No</td>\n",
       "      <td>Month-to-month</td>\n",
       "      <td>Yes</td>\n",
       "      <td>No</td>\n",
       "      <td>Fiber Optic</td>\n",
       "      <td>No</td>\n",
       "      <td>No</td>\n",
       "      <td>No</td>\n",
       "      <td>No</td>\n",
       "      <td>No</td>\n",
       "      <td>Yes</td>\n",
       "      <td>Yes</td>\n",
       "      <td>No</td>\n",
       "      <td>No</td>\n",
       "      <td>Mailed Check</td>\n",
       "      <td>1.670972</td>\n",
       "      <td>150.761216</td>\n",
       "      <td>271.493436</td>\n",
       "      <td>4</td>\n",
       "      <td>4</td>\n",
       "      <td>4</td>\n",
       "      <td>3</td>\n",
       "      <td>4</td>\n",
       "      <td>4</td>\n",
       "      <td>4</td>\n",
       "      <td>5</td>\n",
       "      <td>0</td>\n",
       "      <td>1</td>\n",
       "      <td>0</td>\n",
       "      <td>0</td>\n",
       "      <td>0</td>\n",
       "      <td>0</td>\n",
       "      <td>0</td>\n",
       "      <td>0</td>\n",
       "      <td>1</td>\n",
       "      <td>1</td>\n",
       "      <td>0</td>\n",
       "      <td>0</td>\n",
       "    </tr>\n",
       "  </tbody>\n",
       "</table>\n",
       "</div>"
      ],
      "text/plain": [
       "   Unnamed: 0  CaseOrder Customer_id                           Interaction  \\\n",
       "0           1          1     K409198  aa90260b-4141-4a24-8e36-b04ce1f4f77b   \n",
       "1           2          2     S120509  fb76459f-c047-4a9d-8af9-e0f7d4ac2524   \n",
       "2           3          3     K191035  344d114c-3736-4be5-98f7-c72c281e2d35   \n",
       "3           4          4      D90850  abfa2b40-2d43-4994-b15a-989b8c79e311   \n",
       "4           5          5     K662701  68a861fd-0d20-4e51-a587-8a90407ee574   \n",
       "\n",
       "          City State                 County    Zip       Lat        Lng  \\\n",
       "0  Point Baker    AK  Prince of Wales-Hyder  99927  56.25100 -133.37571   \n",
       "1  West Branch    MI                 Ogemaw  48661  44.32893  -84.24080   \n",
       "2      Yamhill    OR                Yamhill  97148  45.35589 -123.24657   \n",
       "3      Del Mar    CA              San Diego  92014  32.96687 -117.24798   \n",
       "4    Needville    TX              Fort Bend  77461  29.38012  -95.80673   \n",
       "\n",
       "   Population      Area             Timezone  \\\n",
       "0          38     Urban        America/Sitka   \n",
       "1       10446     Urban      America/Detroit   \n",
       "2        3735     Urban  America/Los_Angeles   \n",
       "3       13863  Suburban  America/Los_Angeles   \n",
       "4       11352  Suburban      America/Chicago   \n",
       "\n",
       "                                 Job  Children   Age  \\\n",
       "0  Environmental health practitioner       1.0  68.0   \n",
       "1             Programmer, multimedia       1.0  27.0   \n",
       "2            Chief Financial Officer       4.0  50.0   \n",
       "3                          Solicitor       1.0  48.0   \n",
       "4                Medical illustrator       0.0  83.0   \n",
       "\n",
       "                     Education Employment     Income    Marital  Gender Churn  \\\n",
       "0              Master's Degree  Part Time  28561.990    Widowed    Male    No   \n",
       "1  Regular High School Diploma    Retired  21704.770    Married  Female   Yes   \n",
       "2  Regular High School Diploma    Student  33186.785    Widowed  Female    No   \n",
       "3             Doctorate Degree    Retired  18925.230    Married    Male    No   \n",
       "4              Master's Degree    Student  40074.190  Separated    Male   Yes   \n",
       "\n",
       "   Outage_sec_perweek  Email  Contacts  Yearly_equip_failure Techie  \\\n",
       "0            6.972566     10         0                     1     No   \n",
       "1           12.014541     12         0                     1    Yes   \n",
       "2           10.245616      9         0                     1    Yes   \n",
       "3           15.206193     15         2                     0    Yes   \n",
       "4            8.960316     16         2                     1     No   \n",
       "\n",
       "         Contract Port_modem Tablet InternetService Phone Multiple  \\\n",
       "0        One year        Yes    Yes     Fiber Optic   Yes       No   \n",
       "1  Month-to-month         No    Yes     Fiber Optic   Yes      Yes   \n",
       "2        Two Year        Yes     No             DSL   Yes      Yes   \n",
       "3        Two Year         No     No             DSL   Yes       No   \n",
       "4  Month-to-month        Yes     No     Fiber Optic    No       No   \n",
       "\n",
       "  OnlineSecurity OnlineBackup DeviceProtection TechSupport StreamingTV  \\\n",
       "0            Yes          Yes               No          No          No   \n",
       "1            Yes           No               No          No         Yes   \n",
       "2             No           No               No          No          No   \n",
       "3            Yes           No               No          No         Yes   \n",
       "4             No           No               No         Yes         Yes   \n",
       "\n",
       "  StreamingMovies PaperlessBilling             PaymentMethod     Tenure  \\\n",
       "0             Yes              Yes   Credit Card (automatic)   6.795513   \n",
       "1             Yes              Yes  Bank Transfer(automatic)   1.156681   \n",
       "2             Yes              Yes   Credit Card (automatic)  15.754144   \n",
       "3              No              Yes              Mailed Check  17.087227   \n",
       "4              No               No              Mailed Check   1.670972   \n",
       "\n",
       "   MonthlyCharge  Bandwidth_GB_Year  item1  item2  item3  item4  item5  item6  \\\n",
       "0     171.449762         904.536110      5      5      5      3      4      4   \n",
       "1     242.948015         800.982766      3      4      3      3      4      3   \n",
       "2     159.440398        2054.706961      4      4      2      4      4      3   \n",
       "3     120.249493        2164.579412      4      4      4      2      5      4   \n",
       "4     150.761216         271.493436      4      4      4      3      4      4   \n",
       "\n",
       "   item7  item8  techie_cat  modem_cat  tablet_cat  phone_cat  multi_cat  \\\n",
       "0      3      4           0          1           1          1          0   \n",
       "1      4      4           1          0           1          1          1   \n",
       "2      3      3           1          1           0          1          1   \n",
       "3      3      3           1          0           0          1          0   \n",
       "4      4      5           0          1           0          0          0   \n",
       "\n",
       "   sec_cat  backup_cat  prot_cat  sup_cat  streamTV_cat  streamMOV_cat  \\\n",
       "0        1           1         0        0             0              1   \n",
       "1        1           0         0        0             1              1   \n",
       "2        0           0         0        0             0              1   \n",
       "3        1           0         0        0             1              0   \n",
       "4        0           0         0        1             1              0   \n",
       "\n",
       "   PaperlessBilling_cat  \n",
       "0                     1  \n",
       "1                     1  \n",
       "2                     1  \n",
       "3                     1  \n",
       "4                     0  "
      ]
     },
     "metadata": {},
     "output_type": "display_data"
    }
   ],
   "source": [
    "with pd.option_context('display.max_columns', None):\n",
    "    display(churn.head())"
   ]
  },
  {
   "cell_type": "markdown",
   "id": "a6c8b47f-34ab-4c77-9c53-855e2e541dc3",
   "metadata": {},
   "source": [
    "### PCA "
   ]
  },
  {
   "cell_type": "code",
   "execution_count": 82,
   "id": "afb65b20-8711-4433-a7c8-f3f66d7b941e",
   "metadata": {},
   "outputs": [],
   "source": [
    "from sklearn.decomposition import PCA #importing PCA package"
   ]
  },
  {
   "cell_type": "code",
   "execution_count": 83,
   "id": "ed942490-d0c9-4eec-b8d5-b6c0274b9564",
   "metadata": {},
   "outputs": [],
   "source": [
    "churn_pca = churn[['Children', 'Age', 'Income', 'Bandwidth_GB_Year']]"
   ]
  },
  {
   "cell_type": "markdown",
   "id": "a4879ba3-7215-4ce6-81cd-82926033c4c7",
   "metadata": {},
   "source": [
    "### Normalizing data to apply PCA"
   ]
  },
  {
   "cell_type": "code",
   "execution_count": 84,
   "id": "6858f75f-2117-4b0e-83a4-d9ce9566798e",
   "metadata": {},
   "outputs": [],
   "source": [
    "churn_pca_normalized = (churn_pca-churn_pca.mean())/churn_pca.std()"
   ]
  },
  {
   "cell_type": "code",
   "execution_count": 85,
   "id": "4be8104b-244a-4ae5-9d91-1a23683ca131",
   "metadata": {},
   "outputs": [],
   "source": [
    "pca = PCA(n_components = churn_pca.shape[1])"
   ]
  },
  {
   "cell_type": "code",
   "execution_count": 86,
   "id": "be2755c9-f210-4a55-8467-b93ceaa3c38e",
   "metadata": {},
   "outputs": [
    {
     "data": {
      "text/html": [
       "<style>#sk-container-id-1 {color: black;background-color: white;}#sk-container-id-1 pre{padding: 0;}#sk-container-id-1 div.sk-toggleable {background-color: white;}#sk-container-id-1 label.sk-toggleable__label {cursor: pointer;display: block;width: 100%;margin-bottom: 0;padding: 0.3em;box-sizing: border-box;text-align: center;}#sk-container-id-1 label.sk-toggleable__label-arrow:before {content: \"▸\";float: left;margin-right: 0.25em;color: #696969;}#sk-container-id-1 label.sk-toggleable__label-arrow:hover:before {color: black;}#sk-container-id-1 div.sk-estimator:hover label.sk-toggleable__label-arrow:before {color: black;}#sk-container-id-1 div.sk-toggleable__content {max-height: 0;max-width: 0;overflow: hidden;text-align: left;background-color: #f0f8ff;}#sk-container-id-1 div.sk-toggleable__content pre {margin: 0.2em;color: black;border-radius: 0.25em;background-color: #f0f8ff;}#sk-container-id-1 input.sk-toggleable__control:checked~div.sk-toggleable__content {max-height: 200px;max-width: 100%;overflow: auto;}#sk-container-id-1 input.sk-toggleable__control:checked~label.sk-toggleable__label-arrow:before {content: \"▾\";}#sk-container-id-1 div.sk-estimator input.sk-toggleable__control:checked~label.sk-toggleable__label {background-color: #d4ebff;}#sk-container-id-1 div.sk-label input.sk-toggleable__control:checked~label.sk-toggleable__label {background-color: #d4ebff;}#sk-container-id-1 input.sk-hidden--visually {border: 0;clip: rect(1px 1px 1px 1px);clip: rect(1px, 1px, 1px, 1px);height: 1px;margin: -1px;overflow: hidden;padding: 0;position: absolute;width: 1px;}#sk-container-id-1 div.sk-estimator {font-family: monospace;background-color: #f0f8ff;border: 1px dotted black;border-radius: 0.25em;box-sizing: border-box;margin-bottom: 0.5em;}#sk-container-id-1 div.sk-estimator:hover {background-color: #d4ebff;}#sk-container-id-1 div.sk-parallel-item::after {content: \"\";width: 100%;border-bottom: 1px solid gray;flex-grow: 1;}#sk-container-id-1 div.sk-label:hover label.sk-toggleable__label {background-color: #d4ebff;}#sk-container-id-1 div.sk-serial::before {content: \"\";position: absolute;border-left: 1px solid gray;box-sizing: border-box;top: 0;bottom: 0;left: 50%;z-index: 0;}#sk-container-id-1 div.sk-serial {display: flex;flex-direction: column;align-items: center;background-color: white;padding-right: 0.2em;padding-left: 0.2em;position: relative;}#sk-container-id-1 div.sk-item {position: relative;z-index: 1;}#sk-container-id-1 div.sk-parallel {display: flex;align-items: stretch;justify-content: center;background-color: white;position: relative;}#sk-container-id-1 div.sk-item::before, #sk-container-id-1 div.sk-parallel-item::before {content: \"\";position: absolute;border-left: 1px solid gray;box-sizing: border-box;top: 0;bottom: 0;left: 50%;z-index: -1;}#sk-container-id-1 div.sk-parallel-item {display: flex;flex-direction: column;z-index: 1;position: relative;background-color: white;}#sk-container-id-1 div.sk-parallel-item:first-child::after {align-self: flex-end;width: 50%;}#sk-container-id-1 div.sk-parallel-item:last-child::after {align-self: flex-start;width: 50%;}#sk-container-id-1 div.sk-parallel-item:only-child::after {width: 0;}#sk-container-id-1 div.sk-dashed-wrapped {border: 1px dashed gray;margin: 0 0.4em 0.5em 0.4em;box-sizing: border-box;padding-bottom: 0.4em;background-color: white;}#sk-container-id-1 div.sk-label label {font-family: monospace;font-weight: bold;display: inline-block;line-height: 1.2em;}#sk-container-id-1 div.sk-label-container {text-align: center;}#sk-container-id-1 div.sk-container {/* jupyter's `normalize.less` sets `[hidden] { display: none; }` but bootstrap.min.css set `[hidden] { display: none !important; }` so we also need the `!important` here to be able to override the default hidden behavior on the sphinx rendered scikit-learn.org. See: https://github.com/scikit-learn/scikit-learn/issues/21755 */display: inline-block !important;position: relative;}#sk-container-id-1 div.sk-text-repr-fallback {display: none;}</style><div id=\"sk-container-id-1\" class=\"sk-top-container\"><div class=\"sk-text-repr-fallback\"><pre>PCA(n_components=4)</pre><b>In a Jupyter environment, please rerun this cell to show the HTML representation or trust the notebook. <br />On GitHub, the HTML representation is unable to render, please try loading this page with nbviewer.org.</b></div><div class=\"sk-container\" hidden><div class=\"sk-item\"><div class=\"sk-estimator sk-toggleable\"><input class=\"sk-toggleable__control sk-hidden--visually\" id=\"sk-estimator-id-1\" type=\"checkbox\" checked><label for=\"sk-estimator-id-1\" class=\"sk-toggleable__label sk-toggleable__label-arrow\">PCA</label><div class=\"sk-toggleable__content\"><pre>PCA(n_components=4)</pre></div></div></div></div></div>"
      ],
      "text/plain": [
       "PCA(n_components=4)"
      ]
     },
     "execution_count": 86,
     "metadata": {},
     "output_type": "execute_result"
    }
   ],
   "source": [
    "pca.fit(churn_pca_normalized)"
   ]
  },
  {
   "cell_type": "code",
   "execution_count": 87,
   "id": "19714332-d9dd-421a-b726-bb2d05d96024",
   "metadata": {},
   "outputs": [],
   "source": [
    "churn_pca2 = pd.DataFrame(pca.transform(churn_pca_normalized), columns = ['PC1', 'PC2', 'PC3', 'PC4'])"
   ]
  },
  {
   "cell_type": "code",
   "execution_count": 88,
   "id": "6294a6ff-c545-41b0-abb4-c6920681d262",
   "metadata": {},
   "outputs": [
    {
     "data": {
      "text/html": [
       "<div>\n",
       "<style scoped>\n",
       "    .dataframe tbody tr th:only-of-type {\n",
       "        vertical-align: middle;\n",
       "    }\n",
       "\n",
       "    .dataframe tbody tr th {\n",
       "        vertical-align: top;\n",
       "    }\n",
       "\n",
       "    .dataframe thead th {\n",
       "        text-align: right;\n",
       "    }\n",
       "</style>\n",
       "<table border=\"1\" class=\"dataframe\">\n",
       "  <thead>\n",
       "    <tr style=\"text-align: right;\">\n",
       "      <th></th>\n",
       "      <th>PC1</th>\n",
       "      <th>PC2</th>\n",
       "      <th>PC3</th>\n",
       "      <th>PC4</th>\n",
       "    </tr>\n",
       "  </thead>\n",
       "  <tbody>\n",
       "    <tr>\n",
       "      <th>Children</th>\n",
       "      <td>0.549228</td>\n",
       "      <td>0.311000</td>\n",
       "      <td>0.599327</td>\n",
       "      <td>0.492377</td>\n",
       "    </tr>\n",
       "    <tr>\n",
       "      <th>Age</th>\n",
       "      <td>-0.600028</td>\n",
       "      <td>0.326936</td>\n",
       "      <td>-0.197298</td>\n",
       "      <td>0.702960</td>\n",
       "    </tr>\n",
       "    <tr>\n",
       "      <th>Income</th>\n",
       "      <td>0.236633</td>\n",
       "      <td>0.831983</td>\n",
       "      <td>-0.403571</td>\n",
       "      <td>-0.298229</td>\n",
       "    </tr>\n",
       "    <tr>\n",
       "      <th>Bandwidth_GB_Year</th>\n",
       "      <td>0.531338</td>\n",
       "      <td>-0.322795</td>\n",
       "      <td>-0.662579</td>\n",
       "      <td>0.417698</td>\n",
       "    </tr>\n",
       "  </tbody>\n",
       "</table>\n",
       "</div>"
      ],
      "text/plain": [
       "                        PC1       PC2       PC3       PC4\n",
       "Children           0.549228  0.311000  0.599327  0.492377\n",
       "Age               -0.600028  0.326936 -0.197298  0.702960\n",
       "Income             0.236633  0.831983 -0.403571 -0.298229\n",
       "Bandwidth_GB_Year  0.531338 -0.322795 -0.662579  0.417698"
      ]
     },
     "execution_count": 88,
     "metadata": {},
     "output_type": "execute_result"
    }
   ],
   "source": [
    "loadings = pd.DataFrame(pca.components_.T, \n",
    "                        columns = ['PC1', 'PC2', 'PC3', 'PC4'],\n",
    "                        index = churn_pca_normalized.columns)\n",
    "loadings"
   ]
  },
  {
   "cell_type": "markdown",
   "id": "b6233242-3453-4fbc-bb1d-ed3343a60b92",
   "metadata": {},
   "source": [
    "### Selecting PCs"
   ]
  },
  {
   "cell_type": "code",
   "execution_count": 89,
   "id": "b32ec5c1-e9c8-4501-ba38-e6eefbeb640d",
   "metadata": {},
   "outputs": [],
   "source": [
    "cov_matrix = np.dot(churn_pca_normalized.T, churn_pca_normalized) / churn_pca.shape[0]\n",
    "eigenvalues = [np.dot(eigenvector.T, np.dot(cov_matrix, eigenvector)) for eigenvector in pca.components_]"
   ]
  },
  {
   "cell_type": "code",
   "execution_count": 90,
   "id": "0c79b607-3fd1-4be4-9a12-1f45ca8ecc88",
   "metadata": {},
   "outputs": [
    {
     "data": {
      "image/png": "[encoded data removed]",
      "text/plain": [
       "<Figure size 640x480 with 1 Axes>"
      ]
     },
     "metadata": {},
     "output_type": "display_data"
    }
   ],
   "source": [
    "plt.plot(eigenvalues)\n",
    "plt.xlabel('number of components')\n",
    "plt.ylabel('eigen values')\n",
    "plt.axhline(y = 1, color = \"red\")\n",
    "plt.show()"
   ]
  }
 ],
 "metadata": {
  "kernelspec": {
   "display_name": "Python 3 (ipykernel)",
   "language": "python",
   "name": "python3"
  },
  "language_info": {
   "codemirror_mode": {
    "name": "ipython",
    "version": 3
   },
   "file_extension": ".py",
   "mimetype": "text/x-python",
   "name": "python",
   "nbconvert_exporter": "python",
   "pygments_lexer": "ipython3",
   "version": "3.11.3"
  }
 },
 "nbformat": 4,
 "nbformat_minor": 5
}
